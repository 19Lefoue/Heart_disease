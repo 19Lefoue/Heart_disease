{
 "cells": [
  {
   "cell_type": "code",
   "execution_count": 1,
   "metadata": {},
   "outputs": [
    {
     "name": "stderr",
     "output_type": "stream",
     "text": [
      "── \u001b[1mAttaching packages\u001b[22m ─────────────────────────────────────── tidyverse 1.3.0 ──\n",
      "\n",
      "\u001b[32m✔\u001b[39m \u001b[34mggplot2\u001b[39m 3.3.2     \u001b[32m✔\u001b[39m \u001b[34mpurrr  \u001b[39m 0.3.4\n",
      "\u001b[32m✔\u001b[39m \u001b[34mtibble \u001b[39m 3.0.3     \u001b[32m✔\u001b[39m \u001b[34mdplyr  \u001b[39m 1.0.2\n",
      "\u001b[32m✔\u001b[39m \u001b[34mtidyr  \u001b[39m 1.1.2     \u001b[32m✔\u001b[39m \u001b[34mstringr\u001b[39m 1.4.0\n",
      "\u001b[32m✔\u001b[39m \u001b[34mreadr  \u001b[39m 1.3.1     \u001b[32m✔\u001b[39m \u001b[34mforcats\u001b[39m 0.5.0\n",
      "\n",
      "Warning message:\n",
      "“package ‘ggplot2’ was built under R version 4.0.1”\n",
      "Warning message:\n",
      "“package ‘tibble’ was built under R version 4.0.2”\n",
      "Warning message:\n",
      "“package ‘tidyr’ was built under R version 4.0.2”\n",
      "Warning message:\n",
      "“package ‘dplyr’ was built under R version 4.0.2”\n",
      "── \u001b[1mConflicts\u001b[22m ────────────────────────────────────────── tidyverse_conflicts() ──\n",
      "\u001b[31m✖\u001b[39m \u001b[34mdplyr\u001b[39m::\u001b[32mfilter()\u001b[39m masks \u001b[34mstats\u001b[39m::filter()\n",
      "\u001b[31m✖\u001b[39m \u001b[34mdplyr\u001b[39m::\u001b[32mlag()\u001b[39m    masks \u001b[34mstats\u001b[39m::lag()\n",
      "\n",
      "Warning message:\n",
      "“package ‘tidymodels’ was built under R version 4.0.2”\n",
      "── \u001b[1mAttaching packages\u001b[22m ────────────────────────────────────── tidymodels 0.1.1 ──\n",
      "\n",
      "\u001b[32m✔\u001b[39m \u001b[34mbroom    \u001b[39m 0.7.0      \u001b[32m✔\u001b[39m \u001b[34mrecipes  \u001b[39m 0.1.13\n",
      "\u001b[32m✔\u001b[39m \u001b[34mdials    \u001b[39m 0.0.9      \u001b[32m✔\u001b[39m \u001b[34mrsample  \u001b[39m 0.0.7 \n",
      "\u001b[32m✔\u001b[39m \u001b[34minfer    \u001b[39m 0.5.4      \u001b[32m✔\u001b[39m \u001b[34mtune     \u001b[39m 0.1.1 \n",
      "\u001b[32m✔\u001b[39m \u001b[34mmodeldata\u001b[39m 0.0.2      \u001b[32m✔\u001b[39m \u001b[34mworkflows\u001b[39m 0.2.0 \n",
      "\u001b[32m✔\u001b[39m \u001b[34mparsnip  \u001b[39m 0.1.3      \u001b[32m✔\u001b[39m \u001b[34myardstick\u001b[39m 0.0.7 \n",
      "\n",
      "Warning message:\n",
      "“package ‘broom’ was built under R version 4.0.2”\n",
      "Warning message:\n",
      "“package ‘dials’ was built under R version 4.0.2”\n",
      "Warning message:\n",
      "“package ‘infer’ was built under R version 4.0.3”\n",
      "Warning message:\n",
      "“package ‘modeldata’ was built under R version 4.0.1”\n",
      "Warning message:\n",
      "“package ‘parsnip’ was built under R version 4.0.2”\n",
      "Warning message:\n",
      "“package ‘recipes’ was built under R version 4.0.1”\n",
      "Warning message:\n",
      "“package ‘tune’ was built under R version 4.0.2”\n",
      "Warning message:\n",
      "“package ‘workflows’ was built under R version 4.0.2”\n",
      "Warning message:\n",
      "“package ‘yardstick’ was built under R version 4.0.2”\n",
      "── \u001b[1mConflicts\u001b[22m ───────────────────────────────────────── tidymodels_conflicts() ──\n",
      "\u001b[31m✖\u001b[39m \u001b[34mscales\u001b[39m::\u001b[32mdiscard()\u001b[39m masks \u001b[34mpurrr\u001b[39m::discard()\n",
      "\u001b[31m✖\u001b[39m \u001b[34mdplyr\u001b[39m::\u001b[32mfilter()\u001b[39m   masks \u001b[34mstats\u001b[39m::filter()\n",
      "\u001b[31m✖\u001b[39m \u001b[34mrecipes\u001b[39m::\u001b[32mfixed()\u001b[39m  masks \u001b[34mstringr\u001b[39m::fixed()\n",
      "\u001b[31m✖\u001b[39m \u001b[34mdplyr\u001b[39m::\u001b[32mlag()\u001b[39m      masks \u001b[34mstats\u001b[39m::lag()\n",
      "\u001b[31m✖\u001b[39m \u001b[34myardstick\u001b[39m::\u001b[32mspec()\u001b[39m masks \u001b[34mreadr\u001b[39m::spec()\n",
      "\u001b[31m✖\u001b[39m \u001b[34mrecipes\u001b[39m::\u001b[32mstep()\u001b[39m   masks \u001b[34mstats\u001b[39m::step()\n",
      "\n"
     ]
    }
   ],
   "source": [
    "library(tidyverse)\n",
    "library(repr)\n",
    "library(tidymodels)\n",
    "options(repr.matrix.max.rows = 6)\n",
    "#wqad"
   ]
  },
  {
   "cell_type": "markdown",
   "metadata": {},
   "source": [
    "# Heart Disease"
   ]
  },
  {
   "cell_type": "markdown",
   "metadata": {},
   "source": [
    "# **Research Question:** How do a person’s health factors influence the likelihood of that person having a heart disease? "
   ]
  },
  {
   "cell_type": "markdown",
   "metadata": {},
   "source": [
    "# Introduction"
   ]
  },
  {
   "cell_type": "markdown",
   "metadata": {},
   "source": [
    "Heart disease is a broad term for many heart conditions. A person can go undiagnosed for most of their life until they experience a major symptom such as a heart attack or even heart failure. Many personal health factors can affect their risk of having a heart disease. This includes, cholesterol, age, and sex.  \n",
    "For this analysis, we will be using the UCI Machine Learning Repository's Heart Disease dataset. This dataset includes 14 variables, including age, sex, chest pain type, resting blood pressure, cholesterol level, fasting blood sugar, resting ekg results. When analyzing this data, maximum heart rate achieved, exercise induced angina, it is intended to find what health factors can affect a person’s chance of having heart disease. \n"
   ]
  },
  {
   "cell_type": "markdown",
   "metadata": {},
   "source": [
    "# Methods and Results"
   ]
  },
  {
   "cell_type": "markdown",
   "metadata": {},
   "source": [
    "To begin data analysis, the data is downloaded from the heart disease website as a csv document."
   ]
  },
  {
   "cell_type": "code",
   "execution_count": 2,
   "metadata": {},
   "outputs": [
    {
     "name": "stderr",
     "output_type": "stream",
     "text": [
      "Parsed with column specification:\n",
      "cols(\n",
      "  X1 = \u001b[32mcol_double()\u001b[39m,\n",
      "  X2 = \u001b[32mcol_double()\u001b[39m,\n",
      "  X3 = \u001b[32mcol_double()\u001b[39m,\n",
      "  X4 = \u001b[32mcol_double()\u001b[39m,\n",
      "  X5 = \u001b[32mcol_double()\u001b[39m,\n",
      "  X6 = \u001b[32mcol_double()\u001b[39m,\n",
      "  X7 = \u001b[32mcol_double()\u001b[39m,\n",
      "  X8 = \u001b[32mcol_double()\u001b[39m,\n",
      "  X9 = \u001b[32mcol_double()\u001b[39m,\n",
      "  X10 = \u001b[32mcol_double()\u001b[39m,\n",
      "  X11 = \u001b[32mcol_double()\u001b[39m,\n",
      "  X12 = \u001b[31mcol_character()\u001b[39m,\n",
      "  X13 = \u001b[31mcol_character()\u001b[39m,\n",
      "  X14 = \u001b[32mcol_double()\u001b[39m\n",
      ")\n",
      "\n"
     ]
    },
    {
     "data": {
      "text/html": [
       "<table>\n",
       "<caption>A spec_tbl_df: 303 × 14</caption>\n",
       "<thead>\n",
       "\t<tr><th scope=col>X1</th><th scope=col>X2</th><th scope=col>X3</th><th scope=col>X4</th><th scope=col>X5</th><th scope=col>X6</th><th scope=col>X7</th><th scope=col>X8</th><th scope=col>X9</th><th scope=col>X10</th><th scope=col>X11</th><th scope=col>X12</th><th scope=col>X13</th><th scope=col>X14</th></tr>\n",
       "\t<tr><th scope=col>&lt;dbl&gt;</th><th scope=col>&lt;dbl&gt;</th><th scope=col>&lt;dbl&gt;</th><th scope=col>&lt;dbl&gt;</th><th scope=col>&lt;dbl&gt;</th><th scope=col>&lt;dbl&gt;</th><th scope=col>&lt;dbl&gt;</th><th scope=col>&lt;dbl&gt;</th><th scope=col>&lt;dbl&gt;</th><th scope=col>&lt;dbl&gt;</th><th scope=col>&lt;dbl&gt;</th><th scope=col>&lt;chr&gt;</th><th scope=col>&lt;chr&gt;</th><th scope=col>&lt;dbl&gt;</th></tr>\n",
       "</thead>\n",
       "<tbody>\n",
       "\t<tr><td>63</td><td>1</td><td>1</td><td>145</td><td>233</td><td>1</td><td>2</td><td>150</td><td>0</td><td>2.3</td><td>3</td><td>0.0</td><td>6.0</td><td>0</td></tr>\n",
       "\t<tr><td>67</td><td>1</td><td>4</td><td>160</td><td>286</td><td>0</td><td>2</td><td>108</td><td>1</td><td>1.5</td><td>2</td><td>3.0</td><td>3.0</td><td>2</td></tr>\n",
       "\t<tr><td>67</td><td>1</td><td>4</td><td>120</td><td>229</td><td>0</td><td>2</td><td>129</td><td>1</td><td>2.6</td><td>2</td><td>2.0</td><td>7.0</td><td>1</td></tr>\n",
       "\t<tr><td>⋮</td><td>⋮</td><td>⋮</td><td>⋮</td><td>⋮</td><td>⋮</td><td>⋮</td><td>⋮</td><td>⋮</td><td>⋮</td><td>⋮</td><td>⋮</td><td>⋮</td><td>⋮</td></tr>\n",
       "\t<tr><td>57</td><td>1</td><td>4</td><td>130</td><td>131</td><td>0</td><td>0</td><td>115</td><td>1</td><td>1.2</td><td>2</td><td>1.0</td><td>7.0</td><td>3</td></tr>\n",
       "\t<tr><td>57</td><td>0</td><td>2</td><td>130</td><td>236</td><td>0</td><td>2</td><td>174</td><td>0</td><td>0.0</td><td>2</td><td>1.0</td><td>3.0</td><td>1</td></tr>\n",
       "\t<tr><td>38</td><td>1</td><td>3</td><td>138</td><td>175</td><td>0</td><td>0</td><td>173</td><td>0</td><td>0.0</td><td>1</td><td>?  </td><td>3.0</td><td>0</td></tr>\n",
       "</tbody>\n",
       "</table>\n"
      ],
      "text/latex": [
       "A spec\\_tbl\\_df: 303 × 14\n",
       "\\begin{tabular}{llllllllllllll}\n",
       " X1 & X2 & X3 & X4 & X5 & X6 & X7 & X8 & X9 & X10 & X11 & X12 & X13 & X14\\\\\n",
       " <dbl> & <dbl> & <dbl> & <dbl> & <dbl> & <dbl> & <dbl> & <dbl> & <dbl> & <dbl> & <dbl> & <chr> & <chr> & <dbl>\\\\\n",
       "\\hline\n",
       "\t 63 & 1 & 1 & 145 & 233 & 1 & 2 & 150 & 0 & 2.3 & 3 & 0.0 & 6.0 & 0\\\\\n",
       "\t 67 & 1 & 4 & 160 & 286 & 0 & 2 & 108 & 1 & 1.5 & 2 & 3.0 & 3.0 & 2\\\\\n",
       "\t 67 & 1 & 4 & 120 & 229 & 0 & 2 & 129 & 1 & 2.6 & 2 & 2.0 & 7.0 & 1\\\\\n",
       "\t ⋮ & ⋮ & ⋮ & ⋮ & ⋮ & ⋮ & ⋮ & ⋮ & ⋮ & ⋮ & ⋮ & ⋮ & ⋮ & ⋮\\\\\n",
       "\t 57 & 1 & 4 & 130 & 131 & 0 & 0 & 115 & 1 & 1.2 & 2 & 1.0 & 7.0 & 3\\\\\n",
       "\t 57 & 0 & 2 & 130 & 236 & 0 & 2 & 174 & 0 & 0.0 & 2 & 1.0 & 3.0 & 1\\\\\n",
       "\t 38 & 1 & 3 & 138 & 175 & 0 & 0 & 173 & 0 & 0.0 & 1 & ?   & 3.0 & 0\\\\\n",
       "\\end{tabular}\n"
      ],
      "text/markdown": [
       "\n",
       "A spec_tbl_df: 303 × 14\n",
       "\n",
       "| X1 &lt;dbl&gt; | X2 &lt;dbl&gt; | X3 &lt;dbl&gt; | X4 &lt;dbl&gt; | X5 &lt;dbl&gt; | X6 &lt;dbl&gt; | X7 &lt;dbl&gt; | X8 &lt;dbl&gt; | X9 &lt;dbl&gt; | X10 &lt;dbl&gt; | X11 &lt;dbl&gt; | X12 &lt;chr&gt; | X13 &lt;chr&gt; | X14 &lt;dbl&gt; |\n",
       "|---|---|---|---|---|---|---|---|---|---|---|---|---|---|\n",
       "| 63 | 1 | 1 | 145 | 233 | 1 | 2 | 150 | 0 | 2.3 | 3 | 0.0 | 6.0 | 0 |\n",
       "| 67 | 1 | 4 | 160 | 286 | 0 | 2 | 108 | 1 | 1.5 | 2 | 3.0 | 3.0 | 2 |\n",
       "| 67 | 1 | 4 | 120 | 229 | 0 | 2 | 129 | 1 | 2.6 | 2 | 2.0 | 7.0 | 1 |\n",
       "| ⋮ | ⋮ | ⋮ | ⋮ | ⋮ | ⋮ | ⋮ | ⋮ | ⋮ | ⋮ | ⋮ | ⋮ | ⋮ | ⋮ |\n",
       "| 57 | 1 | 4 | 130 | 131 | 0 | 0 | 115 | 1 | 1.2 | 2 | 1.0 | 7.0 | 3 |\n",
       "| 57 | 0 | 2 | 130 | 236 | 0 | 2 | 174 | 0 | 0.0 | 2 | 1.0 | 3.0 | 1 |\n",
       "| 38 | 1 | 3 | 138 | 175 | 0 | 0 | 173 | 0 | 0.0 | 1 | ?   | 3.0 | 0 |\n",
       "\n"
      ],
      "text/plain": [
       "    X1 X2 X3 X4  X5  X6 X7 X8  X9 X10 X11 X12 X13 X14\n",
       "1   63 1  1  145 233 1  2  150 0  2.3 3   0.0 6.0 0  \n",
       "2   67 1  4  160 286 0  2  108 1  1.5 2   3.0 3.0 2  \n",
       "3   67 1  4  120 229 0  2  129 1  2.6 2   2.0 7.0 1  \n",
       "⋮   ⋮  ⋮  ⋮  ⋮   ⋮   ⋮  ⋮  ⋮   ⋮  ⋮   ⋮   ⋮   ⋮   ⋮  \n",
       "301 57 1  4  130 131 0  0  115 1  1.2 2   1.0 7.0 3  \n",
       "302 57 0  2  130 236 0  2  174 0  0.0 2   1.0 3.0 1  \n",
       "303 38 1  3  138 175 0  0  173 0  0.0 1   ?   3.0 0  "
      ]
     },
     "metadata": {},
     "output_type": "display_data"
    }
   ],
   "source": [
    "heart_disease <- read_csv(\"heart_disease.data\", col_names=FALSE)\n",
    "heart_disease"
   ]
  },
  {
   "cell_type": "markdown",
   "metadata": {},
   "source": [
    "Table1.1: heart disease untidy trable"
   ]
  },
  {
   "cell_type": "markdown",
   "metadata": {},
   "source": [
    "As we can see from table 1.1, the table doesn't have labels. Rename function is used to relable the dataset which makes the table more clear to the audience. Afterward, the dataset was split into training and testing datasets, with training dataset containing 75% of the original data, and testing dataset containing the rest 25%. Since our response variable is the 14th column \"num\", we set strata = num to make sure that both training and testing dataset contains similar ratio of \"num\" values."
   ]
  },
  {
   "cell_type": "code",
   "execution_count": 3,
   "metadata": {},
   "outputs": [
    {
     "name": "stderr",
     "output_type": "stream",
     "text": [
      "Parsed with column specification:\n",
      "cols(\n",
      "  X1 = \u001b[32mcol_double()\u001b[39m,\n",
      "  X2 = \u001b[32mcol_double()\u001b[39m,\n",
      "  X3 = \u001b[32mcol_double()\u001b[39m,\n",
      "  X4 = \u001b[32mcol_double()\u001b[39m,\n",
      "  X5 = \u001b[32mcol_double()\u001b[39m,\n",
      "  X6 = \u001b[32mcol_double()\u001b[39m,\n",
      "  X7 = \u001b[32mcol_double()\u001b[39m,\n",
      "  X8 = \u001b[32mcol_double()\u001b[39m,\n",
      "  X9 = \u001b[32mcol_double()\u001b[39m,\n",
      "  X10 = \u001b[32mcol_double()\u001b[39m,\n",
      "  X11 = \u001b[32mcol_double()\u001b[39m,\n",
      "  X12 = \u001b[31mcol_character()\u001b[39m,\n",
      "  X13 = \u001b[31mcol_character()\u001b[39m,\n",
      "  X14 = \u001b[32mcol_double()\u001b[39m\n",
      ")\n",
      "\n"
     ]
    },
    {
     "data": {
      "text/html": [
       "<table>\n",
       "<caption>A spec_tbl_df: 303 × 14</caption>\n",
       "<thead>\n",
       "\t<tr><th scope=col>age</th><th scope=col>sex</th><th scope=col>cp</th><th scope=col>trestbps</th><th scope=col>chol</th><th scope=col>fbs</th><th scope=col>restecg</th><th scope=col>thalach</th><th scope=col>exang</th><th scope=col>oldpeak</th><th scope=col>slope</th><th scope=col>ca</th><th scope=col>thal</th><th scope=col>num</th></tr>\n",
       "\t<tr><th scope=col>&lt;dbl&gt;</th><th scope=col>&lt;dbl&gt;</th><th scope=col>&lt;dbl&gt;</th><th scope=col>&lt;dbl&gt;</th><th scope=col>&lt;dbl&gt;</th><th scope=col>&lt;dbl&gt;</th><th scope=col>&lt;dbl&gt;</th><th scope=col>&lt;dbl&gt;</th><th scope=col>&lt;dbl&gt;</th><th scope=col>&lt;dbl&gt;</th><th scope=col>&lt;dbl&gt;</th><th scope=col>&lt;chr&gt;</th><th scope=col>&lt;chr&gt;</th><th scope=col>&lt;fct&gt;</th></tr>\n",
       "</thead>\n",
       "<tbody>\n",
       "\t<tr><td>63</td><td>1</td><td>1</td><td>145</td><td>233</td><td>1</td><td>2</td><td>150</td><td>0</td><td>2.3</td><td>3</td><td>0.0</td><td>6.0</td><td>0</td></tr>\n",
       "\t<tr><td>67</td><td>1</td><td>4</td><td>160</td><td>286</td><td>0</td><td>2</td><td>108</td><td>1</td><td>1.5</td><td>2</td><td>3.0</td><td>3.0</td><td>2</td></tr>\n",
       "\t<tr><td>67</td><td>1</td><td>4</td><td>120</td><td>229</td><td>0</td><td>2</td><td>129</td><td>1</td><td>2.6</td><td>2</td><td>2.0</td><td>7.0</td><td>1</td></tr>\n",
       "\t<tr><td>⋮</td><td>⋮</td><td>⋮</td><td>⋮</td><td>⋮</td><td>⋮</td><td>⋮</td><td>⋮</td><td>⋮</td><td>⋮</td><td>⋮</td><td>⋮</td><td>⋮</td><td>⋮</td></tr>\n",
       "\t<tr><td>57</td><td>1</td><td>4</td><td>130</td><td>131</td><td>0</td><td>0</td><td>115</td><td>1</td><td>1.2</td><td>2</td><td>1.0</td><td>7.0</td><td>3</td></tr>\n",
       "\t<tr><td>57</td><td>0</td><td>2</td><td>130</td><td>236</td><td>0</td><td>2</td><td>174</td><td>0</td><td>0.0</td><td>2</td><td>1.0</td><td>3.0</td><td>1</td></tr>\n",
       "\t<tr><td>38</td><td>1</td><td>3</td><td>138</td><td>175</td><td>0</td><td>0</td><td>173</td><td>0</td><td>0.0</td><td>1</td><td>?  </td><td>3.0</td><td>0</td></tr>\n",
       "</tbody>\n",
       "</table>\n"
      ],
      "text/latex": [
       "A spec\\_tbl\\_df: 303 × 14\n",
       "\\begin{tabular}{llllllllllllll}\n",
       " age & sex & cp & trestbps & chol & fbs & restecg & thalach & exang & oldpeak & slope & ca & thal & num\\\\\n",
       " <dbl> & <dbl> & <dbl> & <dbl> & <dbl> & <dbl> & <dbl> & <dbl> & <dbl> & <dbl> & <dbl> & <chr> & <chr> & <fct>\\\\\n",
       "\\hline\n",
       "\t 63 & 1 & 1 & 145 & 233 & 1 & 2 & 150 & 0 & 2.3 & 3 & 0.0 & 6.0 & 0\\\\\n",
       "\t 67 & 1 & 4 & 160 & 286 & 0 & 2 & 108 & 1 & 1.5 & 2 & 3.0 & 3.0 & 2\\\\\n",
       "\t 67 & 1 & 4 & 120 & 229 & 0 & 2 & 129 & 1 & 2.6 & 2 & 2.0 & 7.0 & 1\\\\\n",
       "\t ⋮ & ⋮ & ⋮ & ⋮ & ⋮ & ⋮ & ⋮ & ⋮ & ⋮ & ⋮ & ⋮ & ⋮ & ⋮ & ⋮\\\\\n",
       "\t 57 & 1 & 4 & 130 & 131 & 0 & 0 & 115 & 1 & 1.2 & 2 & 1.0 & 7.0 & 3\\\\\n",
       "\t 57 & 0 & 2 & 130 & 236 & 0 & 2 & 174 & 0 & 0.0 & 2 & 1.0 & 3.0 & 1\\\\\n",
       "\t 38 & 1 & 3 & 138 & 175 & 0 & 0 & 173 & 0 & 0.0 & 1 & ?   & 3.0 & 0\\\\\n",
       "\\end{tabular}\n"
      ],
      "text/markdown": [
       "\n",
       "A spec_tbl_df: 303 × 14\n",
       "\n",
       "| age &lt;dbl&gt; | sex &lt;dbl&gt; | cp &lt;dbl&gt; | trestbps &lt;dbl&gt; | chol &lt;dbl&gt; | fbs &lt;dbl&gt; | restecg &lt;dbl&gt; | thalach &lt;dbl&gt; | exang &lt;dbl&gt; | oldpeak &lt;dbl&gt; | slope &lt;dbl&gt; | ca &lt;chr&gt; | thal &lt;chr&gt; | num &lt;fct&gt; |\n",
       "|---|---|---|---|---|---|---|---|---|---|---|---|---|---|\n",
       "| 63 | 1 | 1 | 145 | 233 | 1 | 2 | 150 | 0 | 2.3 | 3 | 0.0 | 6.0 | 0 |\n",
       "| 67 | 1 | 4 | 160 | 286 | 0 | 2 | 108 | 1 | 1.5 | 2 | 3.0 | 3.0 | 2 |\n",
       "| 67 | 1 | 4 | 120 | 229 | 0 | 2 | 129 | 1 | 2.6 | 2 | 2.0 | 7.0 | 1 |\n",
       "| ⋮ | ⋮ | ⋮ | ⋮ | ⋮ | ⋮ | ⋮ | ⋮ | ⋮ | ⋮ | ⋮ | ⋮ | ⋮ | ⋮ |\n",
       "| 57 | 1 | 4 | 130 | 131 | 0 | 0 | 115 | 1 | 1.2 | 2 | 1.0 | 7.0 | 3 |\n",
       "| 57 | 0 | 2 | 130 | 236 | 0 | 2 | 174 | 0 | 0.0 | 2 | 1.0 | 3.0 | 1 |\n",
       "| 38 | 1 | 3 | 138 | 175 | 0 | 0 | 173 | 0 | 0.0 | 1 | ?   | 3.0 | 0 |\n",
       "\n"
      ],
      "text/plain": [
       "    age sex cp trestbps chol fbs restecg thalach exang oldpeak slope ca  thal\n",
       "1   63  1   1  145      233  1   2       150     0     2.3     3     0.0 6.0 \n",
       "2   67  1   4  160      286  0   2       108     1     1.5     2     3.0 3.0 \n",
       "3   67  1   4  120      229  0   2       129     1     2.6     2     2.0 7.0 \n",
       "⋮   ⋮   ⋮   ⋮  ⋮        ⋮    ⋮   ⋮       ⋮       ⋮     ⋮       ⋮     ⋮   ⋮   \n",
       "301 57  1   4  130      131  0   0       115     1     1.2     2     1.0 7.0 \n",
       "302 57  0   2  130      236  0   2       174     0     0.0     2     1.0 3.0 \n",
       "303 38  1   3  138      175  0   0       173     0     0.0     1     ?   3.0 \n",
       "    num\n",
       "1   0  \n",
       "2   2  \n",
       "3   1  \n",
       "⋮   ⋮  \n",
       "301 3  \n",
       "302 1  \n",
       "303 0  "
      ]
     },
     "metadata": {},
     "output_type": "display_data"
    }
   ],
   "source": [
    "#read and tidy the data\n",
    "set.seed(100)\n",
    "heart_disease <- read_csv(\"heart_disease.data\", col_names=FALSE) %>%\n",
    "    rename(age = X1,\n",
    "            sex = X2,\n",
    "          cp = X3,\n",
    "          trestbps = X4,\n",
    "          chol = X5,\n",
    "          fbs = X6,\n",
    "          restecg =X7,\n",
    "          thalach = X8,\n",
    "          exang =X9, \n",
    "          oldpeak =X10,\n",
    "          slope =X11,\n",
    "          ca = X12,\n",
    "          thal = X13,\n",
    "          num = X14) %>%\n",
    "    mutate(num = as_factor(num))\n",
    "\n",
    "#splitting data into training and testing dataset\n",
    "heart_disease_split <- initial_split(heart_disease, prop = 0.75, strata = num)\n",
    "disease_train <- training(heart_disease_split)\n",
    "disease_test <- testing(heart_disease_split)\n",
    "\n",
    "heart_disease"
   ]
  },
  {
   "cell_type": "markdown",
   "metadata": {},
   "source": [
    "Table1.2: heart disease labelled trable<br>\n",
    "Column 1 = age<br>\n",
    "Column 2 = sex<br>\n",
    "Column 3 = chest pain type<br>\n",
    "Column 4 = resting blood pressure<br>\n",
    "Column 5 = cholesterol level<br>\n",
    "Column 6 = fasting blood sugar<br>\n",
    "Column 7 = resting electrocardiographic results<br>\n",
    "Column 8 = maximum heart rate achieved<br>\n",
    "Column 9 = exercise induced angina<br>\n",
    "Column 10 = ST depression induced by exercise relative to rest<br>\n",
    "Column 11 = the slope of the peak exercise ST segment<br>\n",
    "Column 12 = number of major vessels (0-3) colored by fluoroscopy<br>\n",
    "Column 13 = thal<br>\n",
    "Column 14 = diagnosis of heart disease (response variable). When num < 1, there's no risk of heart disease. When num > 1, there is diagnosed to be heart disease"
   ]
  },
  {
   "cell_type": "markdown",
   "metadata": {},
   "source": [
    "Next, we simplified our response variable \"num\" from 0 - 4 to 0 - 2. We used ifelse() function to group num == 1 and 2 to the value 1, and grouped num == 3 and 4 to the value 2. Num value is also switched into pred, which stands for predictions. We are able to simply the response variable because when num equals to 1 and 2, it is considered to be low risk heart disease. When num equals to 3 and 4, it is considered to be moderate and high risk heart disease. Since pred is now our response variable, we have to mutate this vector into fct using the as_factor () function.\n",
    "\n",
    "Looking at columns 12 and 13 closely, these vectors are considered as characters rather than doubles/integers. In order for our classifier to work they have to be changed into dbl using the as.numeric function."
   ]
  },
  {
   "cell_type": "code",
   "execution_count": 4,
   "metadata": {},
   "outputs": [
    {
     "data": {
      "text/html": [
       "<table>\n",
       "<caption>A tibble: 225 × 14</caption>\n",
       "<thead>\n",
       "\t<tr><th scope=col>age</th><th scope=col>sex</th><th scope=col>cp</th><th scope=col>trestbps</th><th scope=col>chol</th><th scope=col>fbs</th><th scope=col>restecg</th><th scope=col>thalach</th><th scope=col>exang</th><th scope=col>oldpeak</th><th scope=col>slope</th><th scope=col>ca</th><th scope=col>thal</th><th scope=col>pred</th></tr>\n",
       "\t<tr><th scope=col>&lt;dbl&gt;</th><th scope=col>&lt;dbl&gt;</th><th scope=col>&lt;dbl&gt;</th><th scope=col>&lt;dbl&gt;</th><th scope=col>&lt;dbl&gt;</th><th scope=col>&lt;dbl&gt;</th><th scope=col>&lt;dbl&gt;</th><th scope=col>&lt;dbl&gt;</th><th scope=col>&lt;dbl&gt;</th><th scope=col>&lt;dbl&gt;</th><th scope=col>&lt;dbl&gt;</th><th scope=col>&lt;dbl&gt;</th><th scope=col>&lt;dbl&gt;</th><th scope=col>&lt;fct&gt;</th></tr>\n",
       "</thead>\n",
       "<tbody>\n",
       "\t<tr><td>63</td><td>1</td><td>1</td><td>145</td><td>233</td><td>1</td><td>2</td><td>150</td><td>0</td><td>2.3</td><td>3</td><td>0</td><td>6</td><td>0</td></tr>\n",
       "\t<tr><td>67</td><td>1</td><td>4</td><td>160</td><td>286</td><td>0</td><td>2</td><td>108</td><td>1</td><td>1.5</td><td>2</td><td>3</td><td>3</td><td>1</td></tr>\n",
       "\t<tr><td>67</td><td>1</td><td>4</td><td>120</td><td>229</td><td>0</td><td>2</td><td>129</td><td>1</td><td>2.6</td><td>2</td><td>2</td><td>7</td><td>1</td></tr>\n",
       "\t<tr><td>⋮</td><td>⋮</td><td>⋮</td><td>⋮</td><td>⋮</td><td>⋮</td><td>⋮</td><td>⋮</td><td>⋮</td><td>⋮</td><td>⋮</td><td>⋮</td><td>⋮</td><td>⋮</td></tr>\n",
       "\t<tr><td>45</td><td>1</td><td>1</td><td>110</td><td>264</td><td>0</td><td>0</td><td>132</td><td>0</td><td>1.2</td><td>2</td><td>0</td><td>7</td><td>1</td></tr>\n",
       "\t<tr><td>57</td><td>1</td><td>4</td><td>130</td><td>131</td><td>0</td><td>0</td><td>115</td><td>1</td><td>1.2</td><td>2</td><td>1</td><td>7</td><td>2</td></tr>\n",
       "\t<tr><td>57</td><td>0</td><td>2</td><td>130</td><td>236</td><td>0</td><td>2</td><td>174</td><td>0</td><td>0.0</td><td>2</td><td>1</td><td>3</td><td>1</td></tr>\n",
       "</tbody>\n",
       "</table>\n"
      ],
      "text/latex": [
       "A tibble: 225 × 14\n",
       "\\begin{tabular}{llllllllllllll}\n",
       " age & sex & cp & trestbps & chol & fbs & restecg & thalach & exang & oldpeak & slope & ca & thal & pred\\\\\n",
       " <dbl> & <dbl> & <dbl> & <dbl> & <dbl> & <dbl> & <dbl> & <dbl> & <dbl> & <dbl> & <dbl> & <dbl> & <dbl> & <fct>\\\\\n",
       "\\hline\n",
       "\t 63 & 1 & 1 & 145 & 233 & 1 & 2 & 150 & 0 & 2.3 & 3 & 0 & 6 & 0\\\\\n",
       "\t 67 & 1 & 4 & 160 & 286 & 0 & 2 & 108 & 1 & 1.5 & 2 & 3 & 3 & 1\\\\\n",
       "\t 67 & 1 & 4 & 120 & 229 & 0 & 2 & 129 & 1 & 2.6 & 2 & 2 & 7 & 1\\\\\n",
       "\t ⋮ & ⋮ & ⋮ & ⋮ & ⋮ & ⋮ & ⋮ & ⋮ & ⋮ & ⋮ & ⋮ & ⋮ & ⋮ & ⋮\\\\\n",
       "\t 45 & 1 & 1 & 110 & 264 & 0 & 0 & 132 & 0 & 1.2 & 2 & 0 & 7 & 1\\\\\n",
       "\t 57 & 1 & 4 & 130 & 131 & 0 & 0 & 115 & 1 & 1.2 & 2 & 1 & 7 & 2\\\\\n",
       "\t 57 & 0 & 2 & 130 & 236 & 0 & 2 & 174 & 0 & 0.0 & 2 & 1 & 3 & 1\\\\\n",
       "\\end{tabular}\n"
      ],
      "text/markdown": [
       "\n",
       "A tibble: 225 × 14\n",
       "\n",
       "| age &lt;dbl&gt; | sex &lt;dbl&gt; | cp &lt;dbl&gt; | trestbps &lt;dbl&gt; | chol &lt;dbl&gt; | fbs &lt;dbl&gt; | restecg &lt;dbl&gt; | thalach &lt;dbl&gt; | exang &lt;dbl&gt; | oldpeak &lt;dbl&gt; | slope &lt;dbl&gt; | ca &lt;dbl&gt; | thal &lt;dbl&gt; | pred &lt;fct&gt; |\n",
       "|---|---|---|---|---|---|---|---|---|---|---|---|---|---|\n",
       "| 63 | 1 | 1 | 145 | 233 | 1 | 2 | 150 | 0 | 2.3 | 3 | 0 | 6 | 0 |\n",
       "| 67 | 1 | 4 | 160 | 286 | 0 | 2 | 108 | 1 | 1.5 | 2 | 3 | 3 | 1 |\n",
       "| 67 | 1 | 4 | 120 | 229 | 0 | 2 | 129 | 1 | 2.6 | 2 | 2 | 7 | 1 |\n",
       "| ⋮ | ⋮ | ⋮ | ⋮ | ⋮ | ⋮ | ⋮ | ⋮ | ⋮ | ⋮ | ⋮ | ⋮ | ⋮ | ⋮ |\n",
       "| 45 | 1 | 1 | 110 | 264 | 0 | 0 | 132 | 0 | 1.2 | 2 | 0 | 7 | 1 |\n",
       "| 57 | 1 | 4 | 130 | 131 | 0 | 0 | 115 | 1 | 1.2 | 2 | 1 | 7 | 2 |\n",
       "| 57 | 0 | 2 | 130 | 236 | 0 | 2 | 174 | 0 | 0.0 | 2 | 1 | 3 | 1 |\n",
       "\n"
      ],
      "text/plain": [
       "    age sex cp trestbps chol fbs restecg thalach exang oldpeak slope ca thal\n",
       "1   63  1   1  145      233  1   2       150     0     2.3     3     0  6   \n",
       "2   67  1   4  160      286  0   2       108     1     1.5     2     3  3   \n",
       "3   67  1   4  120      229  0   2       129     1     2.6     2     2  7   \n",
       "⋮   ⋮   ⋮   ⋮  ⋮        ⋮    ⋮   ⋮       ⋮       ⋮     ⋮       ⋮     ⋮  ⋮   \n",
       "223 45  1   1  110      264  0   0       132     0     1.2     2     0  7   \n",
       "224 57  1   4  130      131  0   0       115     1     1.2     2     1  7   \n",
       "225 57  0   2  130      236  0   2       174     0     0.0     2     1  3   \n",
       "    pred\n",
       "1   0   \n",
       "2   1   \n",
       "3   1   \n",
       "⋮   ⋮   \n",
       "223 1   \n",
       "224 2   \n",
       "225 1   "
      ]
     },
     "metadata": {},
     "output_type": "display_data"
    }
   ],
   "source": [
    "#grouping the num column for visualization clarity\n",
    "disease_num_train <- mutate(disease_train, pred = ifelse(num == 1 | num == 2, 1, ifelse(num == 3 | num == 4, 2, 0))) %>%\n",
    "               select(-num) %>%\n",
    "                filter(ca != \"?\") %>%\n",
    "                filter(thal != \"?\") %>%\n",
    "                     mutate(pred = as_factor(pred)) %>%\n",
    "                     mutate(ca = as.numeric(ca))%>%\n",
    "                     mutate(thal = as.numeric(thal))\n",
    "\n",
    "disease_num_test <- mutate(disease_test, pred = ifelse(num == 1 | num == 2, 1, ifelse(num == 3 | num == 4, 2, 0))) %>%\n",
    "               select(-num) %>%\n",
    "                filter(ca != \"?\") %>%\n",
    "                filter(thal != \"?\") %>%\n",
    "                     mutate(pred = as_factor(pred)) %>%\n",
    "                     mutate(ca = as.numeric(ca))%>%\n",
    "                     mutate(thal = as.numeric(thal))\n",
    "\n",
    "disease_num_train"
   ]
  },
  {
   "cell_type": "markdown",
   "metadata": {},
   "source": [
    "Table 2.0: Training dataset with pred being the response variable <br>\n",
    "\n",
    "As we have tidied the data already, to get a basic understanding between the relationships between predictors and the response variable pred, we assumed cholesterol level and age of the patient to be strongly correlated to heart disease diagnoses. Hence, we plotted a scatterplot diagram with age of patient (column 1) on the x axis and cholesterol level (column 5) on the y axis. We also colored the scatterplots based on their \"pred\" value. "
   ]
  },
  {
   "cell_type": "code",
   "execution_count": 5,
   "metadata": {},
   "outputs": [
    {
     "data": {
      "image/png": "[encoded data removed]",
      "text/plain": [
       "plot without title"
      ]
     },
     "metadata": {
      "image/png": {
       "height": 420,
       "width": 420
      }
     },
     "output_type": "display_data"
    }
   ],
   "source": [
    "#creating the scattered plot\n",
    "heart_disease_plot<-ggplot(disease_num_train, aes(x = age, y = chol, color = as_factor(pred))) +\n",
    "geom_point() +\n",
    "labs(x = \"Age of Patient\",\n",
    "y = \"Cholesterol level\",\n",
    "color = \"Diagnosis\") +\n",
    "theme(text = element_text(size = 20)) +\n",
    "scale_color_brewer(palette = \"Set2\")\n",
    "\n",
    "\n",
    "\n",
    "heart_disease_plot"
   ]
  },
  {
   "cell_type": "markdown",
   "metadata": {},
   "source": [
    "Graph 1.0 : The impact of age and cholesterol level of patients on heart disease diagnosis"
   ]
  },
  {
   "cell_type": "markdown",
   "metadata": {},
   "source": [
    "Looking at the graph above, there're no distinct relationships between cholesterol level, age of patient, and pred. This is troublesome since building a classifier with these variables will not be able to create an accurate classifier. Moreover, since we have 13 predictors in total, it is very time consuming to find the best selection of predictors. Therefor, we'll be doing forward selection to find the combination of predictors that produces the most accurate classifier."
   ]
  },
  {
   "cell_type": "code",
   "execution_count": 6,
   "metadata": {},
   "outputs": [],
   "source": [
    "set.seed(100022)\n",
    "#creating a new tibble for foward loops analysis\n",
    "disease_subset <- disease_num_train %>% \n",
    "  select(age, \n",
    "         sex, \n",
    "         cp, \n",
    "         trestbps, \n",
    "         chol, \n",
    "         fbs, \n",
    "         restecg,\n",
    "         thalach,\n",
    "         exang,\n",
    "         oldpeak,\n",
    "         slope,\n",
    "         ca,\n",
    "         thal,\n",
    "         pred)\n",
    "\n",
    "names <- colnames(disease_subset %>% select(-pred)) \n",
    "\n",
    "\n",
    "# create a model specification\n",
    "knn_spec <- nearest_neighbor(weight_func = \"rectangular\", \n",
    "                             neighbors = tune()) %>%\n",
    "     set_engine(\"kknn\") %>%\n",
    "     set_mode(\"classification\")\n",
    "\n",
    "# create a 5-fold cross-validation object\n",
    "disease_vfold <- vfold_cv(disease_subset, v = 5, strata = pred)\n"
   ]
  },
  {
   "cell_type": "markdown",
   "metadata": {},
   "source": [
    "To prepare for forward selection, data frame disease_subset is created. This data set includes all 14 variables in disease_num_train dataset. This dataset is created so that all predictors are in an organized form and is easy for the for loop to pull predictors from. In order to make this dataset work for forward selection, response variable pred is removed and the data-frame is redefined as names for convince.\n",
    "\n",
    "Next, we created model specification \"knn_spec\", setting the neighbors argument as tune(), set engine as \"kknn\", set mode as \"classification\" as a preparation for for loops. We also created disease_vfold for 5-fold cross validation to be used in the calculation of different combinations of predictors' accuracy."
   ]
  },
  {
   "cell_type": "code",
   "execution_count": 7,
   "metadata": {},
   "outputs": [],
   "source": [
    "# create an empty tibble to store the results\n",
    "accuracies <- tibble(size = integer(), \n",
    "                     model_string = character(), \n",
    "                     accuracy = numeric())\n",
    "\n",
    "# store the total number of predictors\n",
    "n_total <- length(names)\n",
    "\n",
    "# stores selected predictors\n",
    "selected <- c()"
   ]
  },
  {
   "cell_type": "markdown",
   "metadata": {},
   "source": [
    "An empty tibble \"accuracies\" is created to store the results of for loops. For this tibble, the size for the results is integer, model_string (part of the recipe) will be printed as chr, and accuracy will be reported as dbl. \n",
    "\n",
    "n_total is the total number of predictors, and selected is an empty vector created for foward selection to store selected predictors."
   ]
  },
  {
   "cell_type": "code",
   "execution_count": 8,
   "metadata": {},
   "outputs": [
    {
     "data": {
      "text/html": [
       "<table>\n",
       "<caption>A tibble: 13 × 3</caption>\n",
       "<thead>\n",
       "\t<tr><th scope=col>size</th><th scope=col>model_string</th><th scope=col>accuracy</th></tr>\n",
       "\t<tr><th scope=col>&lt;int&gt;</th><th scope=col>&lt;chr&gt;</th><th scope=col>&lt;dbl&gt;</th></tr>\n",
       "</thead>\n",
       "<tbody>\n",
       "\t<tr><td>1</td><td>pred ~ cp           </td><td>0.6449715</td></tr>\n",
       "\t<tr><td>2</td><td>pred ~ cp+oldpeak   </td><td>0.6941722</td></tr>\n",
       "\t<tr><td>3</td><td>pred ~ cp+oldpeak+ca</td><td>0.6892227</td></tr>\n",
       "\t<tr><td>⋮</td><td>⋮</td><td>⋮</td></tr>\n",
       "\t<tr><td>11</td><td>pred ~ cp+oldpeak+ca+thal+exang+chol+slope+trestbps+fbs+thalach+age            </td><td>0.7289196</td></tr>\n",
       "\t<tr><td>12</td><td>pred ~ cp+oldpeak+ca+thal+exang+chol+slope+trestbps+fbs+thalach+age+sex        </td><td>0.7379183</td></tr>\n",
       "\t<tr><td>13</td><td>pred ~ cp+oldpeak+ca+thal+exang+chol+slope+trestbps+fbs+thalach+age+sex+restecg</td><td>0.7151954</td></tr>\n",
       "</tbody>\n",
       "</table>\n"
      ],
      "text/latex": [
       "A tibble: 13 × 3\n",
       "\\begin{tabular}{lll}\n",
       " size & model\\_string & accuracy\\\\\n",
       " <int> & <chr> & <dbl>\\\\\n",
       "\\hline\n",
       "\t 1 & pred \\textasciitilde{} cp            & 0.6449715\\\\\n",
       "\t 2 & pred \\textasciitilde{} cp+oldpeak    & 0.6941722\\\\\n",
       "\t 3 & pred \\textasciitilde{} cp+oldpeak+ca & 0.6892227\\\\\n",
       "\t ⋮ & ⋮ & ⋮\\\\\n",
       "\t 11 & pred \\textasciitilde{} cp+oldpeak+ca+thal+exang+chol+slope+trestbps+fbs+thalach+age             & 0.7289196\\\\\n",
       "\t 12 & pred \\textasciitilde{} cp+oldpeak+ca+thal+exang+chol+slope+trestbps+fbs+thalach+age+sex         & 0.7379183\\\\\n",
       "\t 13 & pred \\textasciitilde{} cp+oldpeak+ca+thal+exang+chol+slope+trestbps+fbs+thalach+age+sex+restecg & 0.7151954\\\\\n",
       "\\end{tabular}\n"
      ],
      "text/markdown": [
       "\n",
       "A tibble: 13 × 3\n",
       "\n",
       "| size &lt;int&gt; | model_string &lt;chr&gt; | accuracy &lt;dbl&gt; |\n",
       "|---|---|---|\n",
       "| 1 | pred ~ cp            | 0.6449715 |\n",
       "| 2 | pred ~ cp+oldpeak    | 0.6941722 |\n",
       "| 3 | pred ~ cp+oldpeak+ca | 0.6892227 |\n",
       "| ⋮ | ⋮ | ⋮ |\n",
       "| 11 | pred ~ cp+oldpeak+ca+thal+exang+chol+slope+trestbps+fbs+thalach+age             | 0.7289196 |\n",
       "| 12 | pred ~ cp+oldpeak+ca+thal+exang+chol+slope+trestbps+fbs+thalach+age+sex         | 0.7379183 |\n",
       "| 13 | pred ~ cp+oldpeak+ca+thal+exang+chol+slope+trestbps+fbs+thalach+age+sex+restecg | 0.7151954 |\n",
       "\n"
      ],
      "text/plain": [
       "   size\n",
       "1  1   \n",
       "2  2   \n",
       "3  3   \n",
       "⋮  ⋮   \n",
       "11 11  \n",
       "12 12  \n",
       "13 13  \n",
       "   model_string                                                                   \n",
       "1  pred ~ cp                                                                      \n",
       "2  pred ~ cp+oldpeak                                                              \n",
       "3  pred ~ cp+oldpeak+ca                                                           \n",
       "⋮  ⋮                                                                              \n",
       "11 pred ~ cp+oldpeak+ca+thal+exang+chol+slope+trestbps+fbs+thalach+age            \n",
       "12 pred ~ cp+oldpeak+ca+thal+exang+chol+slope+trestbps+fbs+thalach+age+sex        \n",
       "13 pred ~ cp+oldpeak+ca+thal+exang+chol+slope+trestbps+fbs+thalach+age+sex+restecg\n",
       "   accuracy \n",
       "1  0.6449715\n",
       "2  0.6941722\n",
       "3  0.6892227\n",
       "⋮  ⋮        \n",
       "11 0.7289196\n",
       "12 0.7379183\n",
       "13 0.7151954"
      ]
     },
     "metadata": {},
     "output_type": "display_data"
    }
   ],
   "source": [
    "# for every size from 1 to the total number of predictors\n",
    "for (i in 1:n_total) {\n",
    "    # for every predictor still not added yet\n",
    "    accs <- list()\n",
    "    models <- list()\n",
    "    for (j in 1:length(names)) {\n",
    "        # create a model string for this combination of predictors\n",
    "        preds_new <- c(selected, names[[j]])\n",
    "        model_string <- paste(\"pred\", \"~\", paste(preds_new, collapse=\"+\"))\n",
    "\n",
    "        # create a recipe from the model string\n",
    "        disease_recipe <- recipe(as.formula(model_string), \n",
    "                                data = disease_subset) %>%\n",
    "                          step_scale(all_predictors()) %>%\n",
    "                          step_center(all_predictors())\n",
    "\n",
    "        # tune the KNN classifier with these predictors, \n",
    "        # and collect the accuracy for the best K\n",
    "        acc <- workflow() %>%\n",
    "          add_recipe(disease_recipe) %>%\n",
    "          add_model(knn_spec) %>%\n",
    "          tune_grid(resamples = disease_vfold, grid = 10) %>%\n",
    "          collect_metrics() %>%\n",
    "          filter(.metric == \"accuracy\") %>%\n",
    "          summarize(mx = max(mean))\n",
    "        acc <- acc$mx %>% unlist()\n",
    "\n",
    "        # add this result to the dataframe\n",
    "        accs[[j]] <- acc\n",
    "        models[[j]] <- model_string\n",
    "    }\n",
    "    jstar <- which.max(unlist(accs))\n",
    "    accuracies <- accuracies %>% \n",
    "      add_row(size = i, \n",
    "              model_string = models[[jstar]], \n",
    "              accuracy = accs[[jstar]])\n",
    "    selected <- c(selected, names[[jstar]])\n",
    "    names <- names[-jstar]\n",
    "}\n",
    "accuracies"
   ]
  },
  {
   "cell_type": "markdown",
   "metadata": {},
   "source": [
    "table3.0: accuracies of predictor combinations from size 1 to 13\n",
    "\n",
    "Unfortunately the for loops cannot be broken down into small sections, but the overall logic is simple. The forward selection conducted consists of two for loops. For the first for loop, the range is from 1 to n_total. In the first loop, we firstly create lists accs and models. If i is in the range for the first loop, then it will enter the second loop. For the second loop, the range is from 1 to length of names (13). The goal of the first two steps of the second loop is to select predictors and make the response variable ~ predictors combination. This combination is defined as model_string, which will then be used to produce the recipe disease_recipe. As forward selection progresses, model_string will depend on newly entered variables, which eventually changes information entered in the recipe. After the recipe is made, a workflow is assembled. Just like all the workflow studied in class, this one is no different. add_recipe and add_model adds the recipe and specification made earlier. Tune grid, collect metrics, filter, and summaries(mx = max(mean) selects the best k, filters the accuracy, and collects the highest accuracy for the best k. This accuracy value collected is unlisted and stored in acc. The second loop ends with acc and model string collected as j. Finally, we create a variable called jstar, which is essentially the highest accuracy for each size of combinations of predictors. Values of Jstar, which is its size, model_string, and respective accuracy is stored in the tibble \"accuracies\". In the last stage of the first loop, we put all of the calculated variables back to names and vector \"selected\", and remove jstar from names (for preparation for the next loop). The for loops will keep on running until i > n_total."
   ]
  },
  {
   "cell_type": "code",
   "execution_count": 10,
   "metadata": {},
   "outputs": [
    {
     "data": {
      "text/html": [
       "<table>\n",
       "<caption>A tibble: 13 × 3</caption>\n",
       "<thead>\n",
       "\t<tr><th scope=col>size</th><th scope=col>model_string</th><th scope=col>accuracy</th></tr>\n",
       "\t<tr><th scope=col>&lt;int&gt;</th><th scope=col>&lt;chr&gt;</th><th scope=col>&lt;dbl&gt;</th></tr>\n",
       "</thead>\n",
       "<tbody>\n",
       "\t<tr><td>1</td><td>pred ~ cp                      </td><td>0.6449715</td></tr>\n",
       "\t<tr><td>3</td><td>pred ~ cp+oldpeak+ca           </td><td>0.6892227</td></tr>\n",
       "\t<tr><td>5</td><td>pred ~ cp+oldpeak+ca+thal+exang</td><td>0.6937593</td></tr>\n",
       "\t<tr><td>⋮</td><td>⋮</td><td>⋮</td></tr>\n",
       "\t<tr><td>11</td><td>pred ~ cp+oldpeak+ca+thal+exang+chol+slope+trestbps+fbs+thalach+age    </td><td>0.7289196</td></tr>\n",
       "\t<tr><td> 8</td><td>pred ~ cp+oldpeak+ca+thal+exang+chol+slope+trestbps                    </td><td>0.7338603</td></tr>\n",
       "\t<tr><td>12</td><td>pred ~ cp+oldpeak+ca+thal+exang+chol+slope+trestbps+fbs+thalach+age+sex</td><td>0.7379183</td></tr>\n",
       "</tbody>\n",
       "</table>\n"
      ],
      "text/latex": [
       "A tibble: 13 × 3\n",
       "\\begin{tabular}{lll}\n",
       " size & model\\_string & accuracy\\\\\n",
       " <int> & <chr> & <dbl>\\\\\n",
       "\\hline\n",
       "\t 1 & pred \\textasciitilde{} cp                       & 0.6449715\\\\\n",
       "\t 3 & pred \\textasciitilde{} cp+oldpeak+ca            & 0.6892227\\\\\n",
       "\t 5 & pred \\textasciitilde{} cp+oldpeak+ca+thal+exang & 0.6937593\\\\\n",
       "\t ⋮ & ⋮ & ⋮\\\\\n",
       "\t 11 & pred \\textasciitilde{} cp+oldpeak+ca+thal+exang+chol+slope+trestbps+fbs+thalach+age     & 0.7289196\\\\\n",
       "\t  8 & pred \\textasciitilde{} cp+oldpeak+ca+thal+exang+chol+slope+trestbps                     & 0.7338603\\\\\n",
       "\t 12 & pred \\textasciitilde{} cp+oldpeak+ca+thal+exang+chol+slope+trestbps+fbs+thalach+age+sex & 0.7379183\\\\\n",
       "\\end{tabular}\n"
      ],
      "text/markdown": [
       "\n",
       "A tibble: 13 × 3\n",
       "\n",
       "| size &lt;int&gt; | model_string &lt;chr&gt; | accuracy &lt;dbl&gt; |\n",
       "|---|---|---|\n",
       "| 1 | pred ~ cp                       | 0.6449715 |\n",
       "| 3 | pred ~ cp+oldpeak+ca            | 0.6892227 |\n",
       "| 5 | pred ~ cp+oldpeak+ca+thal+exang | 0.6937593 |\n",
       "| ⋮ | ⋮ | ⋮ |\n",
       "| 11 | pred ~ cp+oldpeak+ca+thal+exang+chol+slope+trestbps+fbs+thalach+age     | 0.7289196 |\n",
       "|  8 | pred ~ cp+oldpeak+ca+thal+exang+chol+slope+trestbps                     | 0.7338603 |\n",
       "| 12 | pred ~ cp+oldpeak+ca+thal+exang+chol+slope+trestbps+fbs+thalach+age+sex | 0.7379183 |\n",
       "\n"
      ],
      "text/plain": [
       "   size model_string                                                           \n",
       "1  1    pred ~ cp                                                              \n",
       "2  3    pred ~ cp+oldpeak+ca                                                   \n",
       "3  5    pred ~ cp+oldpeak+ca+thal+exang                                        \n",
       "⋮  ⋮    ⋮                                                                      \n",
       "11 11   pred ~ cp+oldpeak+ca+thal+exang+chol+slope+trestbps+fbs+thalach+age    \n",
       "12  8   pred ~ cp+oldpeak+ca+thal+exang+chol+slope+trestbps                    \n",
       "13 12   pred ~ cp+oldpeak+ca+thal+exang+chol+slope+trestbps+fbs+thalach+age+sex\n",
       "   accuracy \n",
       "1  0.6449715\n",
       "2  0.6892227\n",
       "3  0.6937593\n",
       "⋮  ⋮        \n",
       "11 0.7289196\n",
       "12 0.7338603\n",
       "13 0.7379183"
      ]
     },
     "metadata": {},
     "output_type": "display_data"
    }
   ],
   "source": [
    "max1 <- arrange(accuracies, accuracy)\n",
    "max1"
   ]
  },
  {
   "cell_type": "markdown",
   "metadata": {},
   "source": [
    "table 3.1: arranged accuracies of predictors"
   ]
  },
  {
   "cell_type": "code",
   "execution_count": 9,
   "metadata": {},
   "outputs": [
    {
     "data": {
      "text/html": [
       "<table>\n",
       "<caption>A tibble: 40 × 2</caption>\n",
       "<thead>\n",
       "\t<tr><th scope=col>neighbors</th><th scope=col>mean</th></tr>\n",
       "\t<tr><th scope=col>&lt;int&gt;</th><th scope=col>&lt;dbl&gt;</th></tr>\n",
       "</thead>\n",
       "<tbody>\n",
       "\t<tr><td>1</td><td>0.5958674</td></tr>\n",
       "\t<tr><td>2</td><td>0.5958674</td></tr>\n",
       "\t<tr><td>3</td><td>0.6629337</td></tr>\n",
       "\t<tr><td>⋮</td><td>⋮</td></tr>\n",
       "\t<tr><td>10</td><td>0.7109486</td></tr>\n",
       "\t<tr><td> 5</td><td>0.7157795</td></tr>\n",
       "\t<tr><td> 9</td><td>0.7199341</td></tr>\n",
       "</tbody>\n",
       "</table>\n"
      ],
      "text/latex": [
       "A tibble: 40 × 2\n",
       "\\begin{tabular}{ll}\n",
       " neighbors & mean\\\\\n",
       " <int> & <dbl>\\\\\n",
       "\\hline\n",
       "\t 1 & 0.5958674\\\\\n",
       "\t 2 & 0.5958674\\\\\n",
       "\t 3 & 0.6629337\\\\\n",
       "\t ⋮ & ⋮\\\\\n",
       "\t 10 & 0.7109486\\\\\n",
       "\t  5 & 0.7157795\\\\\n",
       "\t  9 & 0.7199341\\\\\n",
       "\\end{tabular}\n"
      ],
      "text/markdown": [
       "\n",
       "A tibble: 40 × 2\n",
       "\n",
       "| neighbors &lt;int&gt; | mean &lt;dbl&gt; |\n",
       "|---|---|\n",
       "| 1 | 0.5958674 |\n",
       "| 2 | 0.5958674 |\n",
       "| 3 | 0.6629337 |\n",
       "| ⋮ | ⋮ |\n",
       "| 10 | 0.7109486 |\n",
       "|  5 | 0.7157795 |\n",
       "|  9 | 0.7199341 |\n",
       "\n"
      ],
      "text/plain": [
       "   neighbors mean     \n",
       "1  1         0.5958674\n",
       "2  2         0.5958674\n",
       "3  3         0.6629337\n",
       "⋮  ⋮         ⋮        \n",
       "38 10        0.7109486\n",
       "39  5        0.7157795\n",
       "40  9        0.7199341"
      ]
     },
     "metadata": {},
     "output_type": "display_data"
    }
   ],
   "source": [
    "set.seed(100022)\n",
    "#find k\n",
    "disease_best_recipe <- recipe(pred~cp+oldpeak+thal+slope+ca+exang+chol+trestbps+fbs+thalach, \n",
    "                                data = disease_num_train) %>%\n",
    "                          step_scale(all_predictors()) %>%\n",
    "                          step_center(all_predictors())\n",
    "\n",
    "disease_vfold_1 <- vfold_cv(disease_num_train, v = 5, strata = pred) \n",
    "\n",
    "k_vals <- tibble(neighbors = seq(from = 1, to = 40))\n",
    "\n",
    "knn_spec <- nearest_neighbor(weight_func = \"rectangular\", \n",
    "                             neighbors = tune()) %>%\n",
    "     set_engine(\"kknn\") %>%\n",
    "     set_mode(\"classification\")\n",
    "\n",
    "knn_fit <- workflow() %>%\n",
    "  add_recipe(disease_best_recipe) %>%\n",
    "  add_model(knn_spec) %>%\n",
    "  tune_grid(resamples = disease_vfold_1, grid = k_vals) %>%\n",
    "  collect_metrics() %>%\n",
    "  filter(.metric == \"accuracy\") %>%\n",
    "  select(neighbors, mean) %>%\n",
    "  arrange(mean)\n",
    "\n",
    "knn_fit"
   ]
  },
  {
   "cell_type": "markdown",
   "metadata": {},
   "source": [
    "table 4.1: neighbours and their mean accuracy\n",
    "\n",
    "Now by completing the forward selection we have the combination of predictors that produces the classifier with the highest accuracy.  Using this information, disease_best_recipe is created. To select the best k value, a new 5-fold cross validation is created using disease_num_train. Afterward, the new recipe and knn_spec is added to a workflow  that uses tune_grid to calculate the accuracies of the classifier with different k values. After using collect_metrics, filter, select, and arrange functions that collects the accuracies of the classifier, we get the best k value."
   ]
  },
  {
   "cell_type": "code",
   "execution_count": 13,
   "metadata": {},
   "outputs": [
    {
     "data": {
      "image/png": "[encoded data removed]",
      "text/plain": [
       "plot without title"
      ]
     },
     "metadata": {
      "image/png": {
       "height": 420,
       "width": 420
      }
     },
     "output_type": "display_data"
    }
   ],
   "source": [
    "k_line <- ggplot(knn_fit, aes(x = neighbors, y = mean)) +\n",
    "  geom_line() +\n",
    "  xlab(\"K\") +\n",
    "  ylab(\"mean accuracy\") +\n",
    "  theme(text = element_text(size = 20))\n",
    "k_line"
   ]
  },
  {
   "cell_type": "markdown",
   "metadata": {},
   "source": [
    "graph4.0: visulization for the k values and mean accuracies"
   ]
  },
  {
   "cell_type": "code",
   "execution_count": 13,
   "metadata": {},
   "outputs": [
    {
     "data": {
      "text/html": [
       "0.625"
      ],
      "text/latex": [
       "0.625"
      ],
      "text/markdown": [
       "0.625"
      ],
      "text/plain": [
       "[1] 0.625"
      ]
     },
     "metadata": {},
     "output_type": "display_data"
    }
   ],
   "source": [
    "#final calculation\n",
    "\n",
    "disease_best_spec <- nearest_neighbor(weight_func = \"rectangular\", \n",
    "                             neighbors = 9) %>%\n",
    "     set_engine(\"kknn\") %>%\n",
    "     set_mode(\"classification\")\n",
    "\n",
    "\n",
    "knn_fit <- workflow() %>%\n",
    "  add_recipe(disease_best_recipe) %>%\n",
    "  add_model(disease_best_spec) %>%\n",
    "  fit(data = disease_num_train)\n",
    "\n",
    "disease_predict <- predict(knn_fit, disease_num_test) %>%\n",
    "    bind_cols(disease_num_test) %>%\n",
    "    metrics(truth = pred, estimate = .pred_class) %>%\n",
    "    filter(.metric == \"accuracy\") %>%\n",
    "    select(.estimate) %>%\n",
    "    pull()\n",
    "disease_predict"
   ]
  },
  {
   "cell_type": "markdown",
   "metadata": {},
   "source": [
    "Calculate the accuracy of the classifier by first finalizing the recipe (k=9), add this recipe to a workflow and train the classifier with disease_num_train using the fit function. Finally, use predict function to predict the \"pred\" for disease_num_test dataset. Use bind_cols, metrics, filter, select, and pull function to calculate the accuracy of the classifier and filter out unnecessary information."
   ]
  },
  {
   "cell_type": "markdown",
   "metadata": {},
   "source": [
    "# discussion"
   ]
  },
  {
   "cell_type": "markdown",
   "metadata": {},
   "source": [
    "Observing the analysis above, loading and wrangling the data had produced a dataset with response variable “num (diagnosis of heart disease)” and 13 predictors, respectively being age, sex, chest pain type, resting blood pressure, cholesterol level, fasting blood sugar, resting electrocardiographic results, maximum heart rate achieved, exercise induced angina,  ST depression induced by exercise relative to rest, the slope of the peak exercise ST segment, number of major vessels (0-3) colored by fluoroscopy,  and thal. The attempt to visualize the data by creating a scatterplot with “age” on the x-axis, “chol” on the y-axis, and scatter plot colored according to their “pred” value is unsuccessful. The visualization did not suggest any meaningful correlations between the variables. After running double for loop on the disease_num_training dataset, the combination of the following 10 predictors: cp+oldpeak+thal+slope+ca+exang+chol+trestbps+fbs+thalach\n",
    "produced the highest accuracy (0.751) amongst all the other predictor combinations. Moreover, when studying the predictors individually, it is discovered that the predictor “cp (chest pain type)” has the strongest correlation with response variable “pred (heart disease diagnosis)”, achieving an accuracy of 0.644 which is the highest when compared with other predictors.\n",
    "\n",
    "By creating a new recipe and applying cross validation with the parameter in the recipe specified as “tune ()” to disease_num_train (k ranging from 1 to 40), it is discovered that when neighbours equals to 9, the classifier is at its highest accuracy (0.720). Finally, after rebuilding the recipe with k = 9, and using the classifier to predict the response variable “pred” on the test dataset, the accuracy of the classifier is at 0.625. Although the accuracy of the classifier is lower than expected, this accuracy is quite reasonable. Heart disease is a complicated problem and can be influenced by many factors. Additionally, the health condition of patients can be very different from one another, making the creation of an accurate classifier really hard. Nonetheless we are quite happy with our classifier, as we believe it is the best classifier we can create with our current ability."
   ]
  },
  {
   "cell_type": "markdown",
   "metadata": {},
   "source": [
    "# Expected Outcomes and Significance"
   ]
  },
  {
   "cell_type": "markdown",
   "metadata": {},
   "source": [
    "We expect that age, sex, blood pressure, and cholesterol level will be significant predictors of heart disease. We expect that there will be a positive relationship between these predictors and occurence rate of heart disease. \n",
    "\n",
    "Predicting which factors raise a person's likelihood for heart disease allows medical professionals to be more accurately informed and increases the chance for accurate diagnosis. As heart disease is one of the leading causes of death, early preventative and diagnostic action can lead to a decreased mortality rate.\n",
    "\n",
    "Finally, a more accurate diagnosis of heart disease allows for more detailed research of its causes, as well as potential treatments. By prioritizing focus on those causes that play a more significant role, future research in the field may become more efficient and effective."
   ]
  },
  {
   "cell_type": "code",
   "execution_count": null,
   "metadata": {},
   "outputs": [],
   "source": []
  }
 ],
 "metadata": {
  "kernelspec": {
   "display_name": "R",
   "language": "R",
   "name": "ir"
  },
  "language_info": {
   "codemirror_mode": "r",
   "file_extension": ".r",
   "mimetype": "text/x-r-source",
   "name": "R",
   "pygments_lexer": "r",
   "version": "4.0.0"
  }
 },
 "nbformat": 4,
 "nbformat_minor": 4
}
