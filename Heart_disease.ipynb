{
 "cells": [
  {
   "cell_type": "code",
   "execution_count": 2,
   "metadata": {},
   "outputs": [
    {
     "name": "stderr",
     "output_type": "stream",
     "text": [
      "── \u001b[1mAttaching packages\u001b[22m ─────────────────────────────────────── tidyverse 1.3.0 ──\n",
      "\n",
      "\u001b[32m✔\u001b[39m \u001b[34mggplot2\u001b[39m 3.3.2     \u001b[32m✔\u001b[39m \u001b[34mpurrr  \u001b[39m 0.3.4\n",
      "\u001b[32m✔\u001b[39m \u001b[34mtibble \u001b[39m 3.0.3     \u001b[32m✔\u001b[39m \u001b[34mdplyr  \u001b[39m 1.0.2\n",
      "\u001b[32m✔\u001b[39m \u001b[34mtidyr  \u001b[39m 1.1.2     \u001b[32m✔\u001b[39m \u001b[34mstringr\u001b[39m 1.4.0\n",
      "\u001b[32m✔\u001b[39m \u001b[34mreadr  \u001b[39m 1.3.1     \u001b[32m✔\u001b[39m \u001b[34mforcats\u001b[39m 0.5.0\n",
      "\n",
      "Warning message:\n",
      "“package ‘ggplot2’ was built under R version 4.0.1”\n",
      "Warning message:\n",
      "“package ‘tibble’ was built under R version 4.0.2”\n",
      "Warning message:\n",
      "“package ‘tidyr’ was built under R version 4.0.2”\n",
      "Warning message:\n",
      "“package ‘dplyr’ was built under R version 4.0.2”\n",
      "── \u001b[1mConflicts\u001b[22m ────────────────────────────────────────── tidyverse_conflicts() ──\n",
      "\u001b[31m✖\u001b[39m \u001b[34mdplyr\u001b[39m::\u001b[32mfilter()\u001b[39m masks \u001b[34mstats\u001b[39m::filter()\n",
      "\u001b[31m✖\u001b[39m \u001b[34mdplyr\u001b[39m::\u001b[32mlag()\u001b[39m    masks \u001b[34mstats\u001b[39m::lag()\n",
      "\n",
      "Warning message:\n",
      "“package ‘tidymodels’ was built under R version 4.0.2”\n",
      "── \u001b[1mAttaching packages\u001b[22m ────────────────────────────────────── tidymodels 0.1.1 ──\n",
      "\n",
      "\u001b[32m✔\u001b[39m \u001b[34mbroom    \u001b[39m 0.7.0      \u001b[32m✔\u001b[39m \u001b[34mrecipes  \u001b[39m 0.1.13\n",
      "\u001b[32m✔\u001b[39m \u001b[34mdials    \u001b[39m 0.0.9      \u001b[32m✔\u001b[39m \u001b[34mrsample  \u001b[39m 0.0.7 \n",
      "\u001b[32m✔\u001b[39m \u001b[34minfer    \u001b[39m 0.5.4      \u001b[32m✔\u001b[39m \u001b[34mtune     \u001b[39m 0.1.1 \n",
      "\u001b[32m✔\u001b[39m \u001b[34mmodeldata\u001b[39m 0.0.2      \u001b[32m✔\u001b[39m \u001b[34mworkflows\u001b[39m 0.2.0 \n",
      "\u001b[32m✔\u001b[39m \u001b[34mparsnip  \u001b[39m 0.1.3      \u001b[32m✔\u001b[39m \u001b[34myardstick\u001b[39m 0.0.7 \n",
      "\n",
      "Warning message:\n",
      "“package ‘broom’ was built under R version 4.0.2”\n",
      "Warning message:\n",
      "“package ‘dials’ was built under R version 4.0.2”\n",
      "Warning message:\n",
      "“package ‘infer’ was built under R version 4.0.3”\n",
      "Warning message:\n",
      "“package ‘modeldata’ was built under R version 4.0.1”\n",
      "Warning message:\n",
      "“package ‘parsnip’ was built under R version 4.0.2”\n",
      "Warning message:\n",
      "“package ‘recipes’ was built under R version 4.0.1”\n",
      "Warning message:\n",
      "“package ‘tune’ was built under R version 4.0.2”\n",
      "Warning message:\n",
      "“package ‘workflows’ was built under R version 4.0.2”\n",
      "Warning message:\n",
      "“package ‘yardstick’ was built under R version 4.0.2”\n",
      "── \u001b[1mConflicts\u001b[22m ───────────────────────────────────────── tidymodels_conflicts() ──\n",
      "\u001b[31m✖\u001b[39m \u001b[34mscales\u001b[39m::\u001b[32mdiscard()\u001b[39m masks \u001b[34mpurrr\u001b[39m::discard()\n",
      "\u001b[31m✖\u001b[39m \u001b[34mdplyr\u001b[39m::\u001b[32mfilter()\u001b[39m   masks \u001b[34mstats\u001b[39m::filter()\n",
      "\u001b[31m✖\u001b[39m \u001b[34mrecipes\u001b[39m::\u001b[32mfixed()\u001b[39m  masks \u001b[34mstringr\u001b[39m::fixed()\n",
      "\u001b[31m✖\u001b[39m \u001b[34mdplyr\u001b[39m::\u001b[32mlag()\u001b[39m      masks \u001b[34mstats\u001b[39m::lag()\n",
      "\u001b[31m✖\u001b[39m \u001b[34myardstick\u001b[39m::\u001b[32mspec()\u001b[39m masks \u001b[34mreadr\u001b[39m::spec()\n",
      "\u001b[31m✖\u001b[39m \u001b[34mrecipes\u001b[39m::\u001b[32mstep()\u001b[39m   masks \u001b[34mstats\u001b[39m::step()\n",
      "\n"
     ]
    }
   ],
   "source": [
    "library(tidyverse)\n",
    "library(repr)\n",
    "library(tidymodels)\n",
    "options(repr.matrix.max.rows = 6)\n",
    "#wqad"
   ]
  },
  {
   "cell_type": "markdown",
   "metadata": {},
   "source": [
    "# Heart Disease"
   ]
  },
  {
   "cell_type": "markdown",
   "metadata": {},
   "source": [
    "# **Research Question:** How do a person’s health factors influence the likelihood of that person having a heart disease? "
   ]
  },
  {
   "cell_type": "markdown",
   "metadata": {},
   "source": [
    "# Introduction"
   ]
  },
  {
   "cell_type": "markdown",
   "metadata": {},
   "source": [
    "Heart disease is a broad term for many heart conditions. A person can go undiagnosed for most of their life until they experience a major symptom such as a heart attack or even heart failure. Many personal health factors can affect their risk of having a heart disease. This includes, cholesterol, age, and sex.  \n",
    "For this analysis, we will be using the UCI Machine Learning Repository's Heart Disease dataset. This dataset includes 14 variables, including age, sex, chest pain type, resting blood pressure, cholesterol level, fasting blood sugar, resting ekg results. When analyzing this data, maximum heart rate achieved, exercise induced angina, it is intended to find what health factors can affect a person’s chance of having heart disease. \n"
   ]
  },
  {
   "cell_type": "code",
   "execution_count": 3,
   "metadata": {},
   "outputs": [
    {
     "name": "stderr",
     "output_type": "stream",
     "text": [
      "Parsed with column specification:\n",
      "cols(\n",
      "  X1 = \u001b[32mcol_double()\u001b[39m,\n",
      "  X2 = \u001b[32mcol_double()\u001b[39m,\n",
      "  X3 = \u001b[32mcol_double()\u001b[39m,\n",
      "  X4 = \u001b[32mcol_double()\u001b[39m,\n",
      "  X5 = \u001b[32mcol_double()\u001b[39m,\n",
      "  X6 = \u001b[32mcol_double()\u001b[39m,\n",
      "  X7 = \u001b[32mcol_double()\u001b[39m,\n",
      "  X8 = \u001b[32mcol_double()\u001b[39m,\n",
      "  X9 = \u001b[32mcol_double()\u001b[39m,\n",
      "  X10 = \u001b[32mcol_double()\u001b[39m,\n",
      "  X11 = \u001b[32mcol_double()\u001b[39m,\n",
      "  X12 = \u001b[31mcol_character()\u001b[39m,\n",
      "  X13 = \u001b[31mcol_character()\u001b[39m,\n",
      "  X14 = \u001b[32mcol_double()\u001b[39m\n",
      ")\n",
      "\n"
     ]
    },
    {
     "data": {
      "text/html": [
       "<table>\n",
       "<caption>A tibble: 225 × 14</caption>\n",
       "<thead>\n",
       "\t<tr><th scope=col>age</th><th scope=col>sex</th><th scope=col>cp</th><th scope=col>trestbps</th><th scope=col>chol</th><th scope=col>fbs</th><th scope=col>restecg</th><th scope=col>thalach</th><th scope=col>exang</th><th scope=col>oldpeak</th><th scope=col>slope</th><th scope=col>ca</th><th scope=col>thal</th><th scope=col>pred</th></tr>\n",
       "\t<tr><th scope=col>&lt;dbl&gt;</th><th scope=col>&lt;dbl&gt;</th><th scope=col>&lt;dbl&gt;</th><th scope=col>&lt;dbl&gt;</th><th scope=col>&lt;dbl&gt;</th><th scope=col>&lt;dbl&gt;</th><th scope=col>&lt;dbl&gt;</th><th scope=col>&lt;dbl&gt;</th><th scope=col>&lt;dbl&gt;</th><th scope=col>&lt;dbl&gt;</th><th scope=col>&lt;dbl&gt;</th><th scope=col>&lt;dbl&gt;</th><th scope=col>&lt;dbl&gt;</th><th scope=col>&lt;fct&gt;</th></tr>\n",
       "</thead>\n",
       "<tbody>\n",
       "\t<tr><td>63</td><td>1</td><td>1</td><td>145</td><td>233</td><td>1</td><td>2</td><td>150</td><td>0</td><td>2.3</td><td>3</td><td>0</td><td>6</td><td>0</td></tr>\n",
       "\t<tr><td>67</td><td>1</td><td>4</td><td>160</td><td>286</td><td>0</td><td>2</td><td>108</td><td>1</td><td>1.5</td><td>2</td><td>3</td><td>3</td><td>1</td></tr>\n",
       "\t<tr><td>67</td><td>1</td><td>4</td><td>120</td><td>229</td><td>0</td><td>2</td><td>129</td><td>1</td><td>2.6</td><td>2</td><td>2</td><td>7</td><td>1</td></tr>\n",
       "\t<tr><td>⋮</td><td>⋮</td><td>⋮</td><td>⋮</td><td>⋮</td><td>⋮</td><td>⋮</td><td>⋮</td><td>⋮</td><td>⋮</td><td>⋮</td><td>⋮</td><td>⋮</td><td>⋮</td></tr>\n",
       "\t<tr><td>45</td><td>1</td><td>1</td><td>110</td><td>264</td><td>0</td><td>0</td><td>132</td><td>0</td><td>1.2</td><td>2</td><td>0</td><td>7</td><td>1</td></tr>\n",
       "\t<tr><td>57</td><td>1</td><td>4</td><td>130</td><td>131</td><td>0</td><td>0</td><td>115</td><td>1</td><td>1.2</td><td>2</td><td>1</td><td>7</td><td>2</td></tr>\n",
       "\t<tr><td>57</td><td>0</td><td>2</td><td>130</td><td>236</td><td>0</td><td>2</td><td>174</td><td>0</td><td>0.0</td><td>2</td><td>1</td><td>3</td><td>1</td></tr>\n",
       "</tbody>\n",
       "</table>\n"
      ],
      "text/latex": [
       "A tibble: 225 × 14\n",
       "\\begin{tabular}{llllllllllllll}\n",
       " age & sex & cp & trestbps & chol & fbs & restecg & thalach & exang & oldpeak & slope & ca & thal & pred\\\\\n",
       " <dbl> & <dbl> & <dbl> & <dbl> & <dbl> & <dbl> & <dbl> & <dbl> & <dbl> & <dbl> & <dbl> & <dbl> & <dbl> & <fct>\\\\\n",
       "\\hline\n",
       "\t 63 & 1 & 1 & 145 & 233 & 1 & 2 & 150 & 0 & 2.3 & 3 & 0 & 6 & 0\\\\\n",
       "\t 67 & 1 & 4 & 160 & 286 & 0 & 2 & 108 & 1 & 1.5 & 2 & 3 & 3 & 1\\\\\n",
       "\t 67 & 1 & 4 & 120 & 229 & 0 & 2 & 129 & 1 & 2.6 & 2 & 2 & 7 & 1\\\\\n",
       "\t ⋮ & ⋮ & ⋮ & ⋮ & ⋮ & ⋮ & ⋮ & ⋮ & ⋮ & ⋮ & ⋮ & ⋮ & ⋮ & ⋮\\\\\n",
       "\t 45 & 1 & 1 & 110 & 264 & 0 & 0 & 132 & 0 & 1.2 & 2 & 0 & 7 & 1\\\\\n",
       "\t 57 & 1 & 4 & 130 & 131 & 0 & 0 & 115 & 1 & 1.2 & 2 & 1 & 7 & 2\\\\\n",
       "\t 57 & 0 & 2 & 130 & 236 & 0 & 2 & 174 & 0 & 0.0 & 2 & 1 & 3 & 1\\\\\n",
       "\\end{tabular}\n"
      ],
      "text/markdown": [
       "\n",
       "A tibble: 225 × 14\n",
       "\n",
       "| age &lt;dbl&gt; | sex &lt;dbl&gt; | cp &lt;dbl&gt; | trestbps &lt;dbl&gt; | chol &lt;dbl&gt; | fbs &lt;dbl&gt; | restecg &lt;dbl&gt; | thalach &lt;dbl&gt; | exang &lt;dbl&gt; | oldpeak &lt;dbl&gt; | slope &lt;dbl&gt; | ca &lt;dbl&gt; | thal &lt;dbl&gt; | pred &lt;fct&gt; |\n",
       "|---|---|---|---|---|---|---|---|---|---|---|---|---|---|\n",
       "| 63 | 1 | 1 | 145 | 233 | 1 | 2 | 150 | 0 | 2.3 | 3 | 0 | 6 | 0 |\n",
       "| 67 | 1 | 4 | 160 | 286 | 0 | 2 | 108 | 1 | 1.5 | 2 | 3 | 3 | 1 |\n",
       "| 67 | 1 | 4 | 120 | 229 | 0 | 2 | 129 | 1 | 2.6 | 2 | 2 | 7 | 1 |\n",
       "| ⋮ | ⋮ | ⋮ | ⋮ | ⋮ | ⋮ | ⋮ | ⋮ | ⋮ | ⋮ | ⋮ | ⋮ | ⋮ | ⋮ |\n",
       "| 45 | 1 | 1 | 110 | 264 | 0 | 0 | 132 | 0 | 1.2 | 2 | 0 | 7 | 1 |\n",
       "| 57 | 1 | 4 | 130 | 131 | 0 | 0 | 115 | 1 | 1.2 | 2 | 1 | 7 | 2 |\n",
       "| 57 | 0 | 2 | 130 | 236 | 0 | 2 | 174 | 0 | 0.0 | 2 | 1 | 3 | 1 |\n",
       "\n"
      ],
      "text/plain": [
       "    age sex cp trestbps chol fbs restecg thalach exang oldpeak slope ca thal\n",
       "1   63  1   1  145      233  1   2       150     0     2.3     3     0  6   \n",
       "2   67  1   4  160      286  0   2       108     1     1.5     2     3  3   \n",
       "3   67  1   4  120      229  0   2       129     1     2.6     2     2  7   \n",
       "⋮   ⋮   ⋮   ⋮  ⋮        ⋮    ⋮   ⋮       ⋮       ⋮     ⋮       ⋮     ⋮  ⋮   \n",
       "223 45  1   1  110      264  0   0       132     0     1.2     2     0  7   \n",
       "224 57  1   4  130      131  0   0       115     1     1.2     2     1  7   \n",
       "225 57  0   2  130      236  0   2       174     0     0.0     2     1  3   \n",
       "    pred\n",
       "1   0   \n",
       "2   1   \n",
       "3   1   \n",
       "⋮   ⋮   \n",
       "223 1   \n",
       "224 2   \n",
       "225 1   "
      ]
     },
     "metadata": {},
     "output_type": "display_data"
    },
    {
     "data": {
      "image/png": "[encoded data removed]",
      "text/plain": [
       "plot without title"
      ]
     },
     "metadata": {
      "image/png": {
       "height": 420,
       "width": 420
      }
     },
     "output_type": "display_data"
    }
   ],
   "source": [
    "#read and tidy the data\n",
    "set.seed(100)\n",
    "heart_disease <- read_csv(\"heart_disease.data\", col_names=FALSE) %>%\n",
    "    rename(age = X1,\n",
    "            sex = X2,\n",
    "          cp = X3,\n",
    "          trestbps = X4,\n",
    "          chol = X5,\n",
    "          fbs = X6,\n",
    "          restecg =X7,\n",
    "          thalach = X8,\n",
    "          exang =X9, \n",
    "          oldpeak =X10,\n",
    "          slope =X11,\n",
    "          ca = X12,\n",
    "          thal = X13,\n",
    "          num = X14) %>%\n",
    "    mutate(num = as_factor(num))\n",
    "\n",
    "#splitting data into training and testing dataset\n",
    "heart_disease_split <- initial_split(heart_disease, prop = 0.75, strata = num)\n",
    "disease_train <- training(heart_disease_split)\n",
    "disease_test <- testing(heart_disease_split)\n",
    "\n",
    "#grouping the num column for visualization clarity\n",
    "disease_num_train <- mutate(disease_train, pred = ifelse(num == 1 | num == 2, 1, ifelse(num == 3 | num == 4, 2, 0))) %>%\n",
    "               select(-num) %>%\n",
    "                filter(ca != \"?\") %>%\n",
    "                filter(thal != \"?\") %>%\n",
    "                     mutate(pred = as_factor(pred)) %>%\n",
    "                     mutate(ca = as.numeric(ca))%>%\n",
    "                     mutate(thal = as.numeric(thal))\n",
    "\n",
    "disease_num_test <- mutate(disease_test, pred = ifelse(num == 1 | num == 2, 1, ifelse(num == 3 | num == 4, 2, 0))) %>%\n",
    "               select(-num) %>%\n",
    "                filter(ca != \"?\") %>%\n",
    "                filter(thal != \"?\") %>%\n",
    "                     mutate(pred = as_factor(pred)) %>%\n",
    "                     mutate(ca = as.numeric(ca))%>%\n",
    "                     mutate(thal = as.numeric(thal))\n",
    "\n",
    "#creating the scattered plot\n",
    "heart_disease_plot<-ggplot(disease_num_train, aes(x = age, y = chol, color = as_factor(pred))) +\n",
    "geom_point() +\n",
    "labs(x = \"Age of Patient\",\n",
    "y = \"Cholesterol level\",\n",
    "color = \"Diagnosis\") +\n",
    "theme(text = element_text(size = 12)) +\n",
    "ggtitle(\"Age and Cholesterol's impact on heart disease diagnosis\")+\n",
    "scale_color_brewer(palette = \"Set2\")\n",
    "\n",
    "\n",
    "\n",
    "disease_num_train\n",
    "heart_disease_plot\n",
    "#123"
   ]
  },
  {
   "cell_type": "code",
   "execution_count": 6,
   "metadata": {},
   "outputs": [
    {
     "data": {
      "text/html": [
       "<table>\n",
       "<caption>A tibble: 13 × 3</caption>\n",
       "<thead>\n",
       "\t<tr><th scope=col>size</th><th scope=col>model_string</th><th scope=col>accuracy</th></tr>\n",
       "\t<tr><th scope=col>&lt;int&gt;</th><th scope=col>&lt;chr&gt;</th><th scope=col>&lt;dbl&gt;</th></tr>\n",
       "</thead>\n",
       "<tbody>\n",
       "\t<tr><td>1</td><td>pred ~ cp             </td><td>0.6444752</td></tr>\n",
       "\t<tr><td>2</td><td>pred ~ cp+oldpeak     </td><td>0.6929820</td></tr>\n",
       "\t<tr><td>3</td><td>pred ~ cp+oldpeak+thal</td><td>0.6934651</td></tr>\n",
       "\t<tr><td>⋮</td><td>⋮</td><td>⋮</td></tr>\n",
       "\t<tr><td>11</td><td>pred ~ cp+oldpeak+thal+slope+ca+exang+chol+trestbps+fbs+thalach+sex            </td><td>0.7244884</td></tr>\n",
       "\t<tr><td>12</td><td>pred ~ cp+oldpeak+thal+slope+ca+exang+chol+trestbps+fbs+thalach+sex+age        </td><td>0.7201449</td></tr>\n",
       "\t<tr><td>13</td><td>pred ~ cp+oldpeak+thal+slope+ca+exang+chol+trestbps+fbs+thalach+sex+age+restecg</td><td>0.7151076</td></tr>\n",
       "</tbody>\n",
       "</table>\n"
      ],
      "text/latex": [
       "A tibble: 13 × 3\n",
       "\\begin{tabular}{lll}\n",
       " size & model\\_string & accuracy\\\\\n",
       " <int> & <chr> & <dbl>\\\\\n",
       "\\hline\n",
       "\t 1 & pred \\textasciitilde{} cp              & 0.6444752\\\\\n",
       "\t 2 & pred \\textasciitilde{} cp+oldpeak      & 0.6929820\\\\\n",
       "\t 3 & pred \\textasciitilde{} cp+oldpeak+thal & 0.6934651\\\\\n",
       "\t ⋮ & ⋮ & ⋮\\\\\n",
       "\t 11 & pred \\textasciitilde{} cp+oldpeak+thal+slope+ca+exang+chol+trestbps+fbs+thalach+sex             & 0.7244884\\\\\n",
       "\t 12 & pred \\textasciitilde{} cp+oldpeak+thal+slope+ca+exang+chol+trestbps+fbs+thalach+sex+age         & 0.7201449\\\\\n",
       "\t 13 & pred \\textasciitilde{} cp+oldpeak+thal+slope+ca+exang+chol+trestbps+fbs+thalach+sex+age+restecg & 0.7151076\\\\\n",
       "\\end{tabular}\n"
      ],
      "text/markdown": [
       "\n",
       "A tibble: 13 × 3\n",
       "\n",
       "| size &lt;int&gt; | model_string &lt;chr&gt; | accuracy &lt;dbl&gt; |\n",
       "|---|---|---|\n",
       "| 1 | pred ~ cp              | 0.6444752 |\n",
       "| 2 | pred ~ cp+oldpeak      | 0.6929820 |\n",
       "| 3 | pred ~ cp+oldpeak+thal | 0.6934651 |\n",
       "| ⋮ | ⋮ | ⋮ |\n",
       "| 11 | pred ~ cp+oldpeak+thal+slope+ca+exang+chol+trestbps+fbs+thalach+sex             | 0.7244884 |\n",
       "| 12 | pred ~ cp+oldpeak+thal+slope+ca+exang+chol+trestbps+fbs+thalach+sex+age         | 0.7201449 |\n",
       "| 13 | pred ~ cp+oldpeak+thal+slope+ca+exang+chol+trestbps+fbs+thalach+sex+age+restecg | 0.7151076 |\n",
       "\n"
      ],
      "text/plain": [
       "   size\n",
       "1  1   \n",
       "2  2   \n",
       "3  3   \n",
       "⋮  ⋮   \n",
       "11 11  \n",
       "12 12  \n",
       "13 13  \n",
       "   model_string                                                                   \n",
       "1  pred ~ cp                                                                      \n",
       "2  pred ~ cp+oldpeak                                                              \n",
       "3  pred ~ cp+oldpeak+thal                                                         \n",
       "⋮  ⋮                                                                              \n",
       "11 pred ~ cp+oldpeak+thal+slope+ca+exang+chol+trestbps+fbs+thalach+sex            \n",
       "12 pred ~ cp+oldpeak+thal+slope+ca+exang+chol+trestbps+fbs+thalach+sex+age        \n",
       "13 pred ~ cp+oldpeak+thal+slope+ca+exang+chol+trestbps+fbs+thalach+sex+age+restecg\n",
       "   accuracy \n",
       "1  0.6444752\n",
       "2  0.6929820\n",
       "3  0.6934651\n",
       "⋮  ⋮        \n",
       "11 0.7244884\n",
       "12 0.7201449\n",
       "13 0.7151076"
      ]
     },
     "metadata": {},
     "output_type": "display_data"
    }
   ],
   "source": [
    "set.seed(100022)\n",
    "#creating a new tibble for foward loops analysis\n",
    "disease_subset <- disease_num_train %>% \n",
    "  select(age, \n",
    "         sex, \n",
    "         cp, \n",
    "         trestbps, \n",
    "         chol, \n",
    "         fbs, \n",
    "         restecg,\n",
    "         thalach,\n",
    "         exang,\n",
    "         oldpeak,\n",
    "         slope,\n",
    "         ca,\n",
    "         thal,\n",
    "         pred)\n",
    "\n",
    "names <- colnames(disease_subset %>% select(-pred)) \n",
    "\n",
    "# create an empty tibble to store the results\n",
    "accuracies <- tibble(size = integer(), \n",
    "                     model_string = character(), \n",
    "                     accuracy = numeric())\n",
    "\n",
    "# create a model specification\n",
    "knn_spec <- nearest_neighbor(weight_func = \"rectangular\", \n",
    "                             neighbors = tune()) %>%\n",
    "     set_engine(\"kknn\") %>%\n",
    "     set_mode(\"classification\")\n",
    "\n",
    "# create a 5-fold cross-validation object\n",
    "disease_vfold <- vfold_cv(disease_subset, v = 5, strata = pred)\n",
    "\n",
    "# store the total number of predictors\n",
    "n_total <- length(names)\n",
    "\n",
    "# stores selected predictors\n",
    "selected <- c()\n",
    "\n",
    "# for every size from 1 to the total number of predictors\n",
    "for (i in 1:n_total) {\n",
    "    # for every predictor still not added yet\n",
    "    accs <- list()\n",
    "    models <- list()\n",
    "    for (j in 1:length(names)) {\n",
    "        # create a model string for this combination of predictors\n",
    "        preds_new <- c(selected, names[[j]])\n",
    "        model_string <- paste(\"pred\", \"~\", paste(preds_new, collapse=\"+\"))\n",
    "\n",
    "        # create a recipe from the model string\n",
    "        disease_recipe <- recipe(as.formula(model_string), \n",
    "                                data = disease_subset) %>%\n",
    "                          step_scale(all_predictors()) %>%\n",
    "                          step_center(all_predictors())\n",
    "\n",
    "        # tune the KNN classifier with these predictors, \n",
    "        # and collect the accuracy for the best K\n",
    "        acc <- workflow() %>%\n",
    "          add_recipe(disease_recipe) %>%\n",
    "          add_model(knn_spec) %>%\n",
    "          tune_grid(resamples = disease_vfold, grid = 10) %>%\n",
    "          collect_metrics() %>%\n",
    "          filter(.metric == \"accuracy\") %>%\n",
    "          summarize(mx = max(mean))\n",
    "        acc <- acc$mx %>% unlist()\n",
    "\n",
    "        # add this result to the dataframe\n",
    "        accs[[j]] <- acc\n",
    "        models[[j]] <- model_string\n",
    "    }\n",
    "    jstar <- which.max(unlist(accs))\n",
    "    accuracies <- accuracies %>% \n",
    "      add_row(size = i, \n",
    "              model_string = models[[jstar]], \n",
    "              accuracy = accs[[jstar]])\n",
    "    selected <- c(selected, names[[jstar]])\n",
    "    names <- names[-jstar]\n",
    "}\n",
    "accuracies"
   ]
  },
  {
   "cell_type": "code",
   "execution_count": 19,
   "metadata": {},
   "outputs": [
    {
     "data": {
      "text/html": [
       "<table>\n",
       "<caption>A tibble: 13 × 3</caption>\n",
       "<thead>\n",
       "\t<tr><th scope=col>size</th><th scope=col>model_string</th><th scope=col>accuracy</th></tr>\n",
       "\t<tr><th scope=col>&lt;int&gt;</th><th scope=col>&lt;chr&gt;</th><th scope=col>&lt;dbl&gt;</th></tr>\n",
       "</thead>\n",
       "<tbody>\n",
       "\t<tr><td>1</td><td>pred ~ cp             </td><td>0.6444752</td></tr>\n",
       "\t<tr><td>2</td><td>pred ~ cp+oldpeak     </td><td>0.6929820</td></tr>\n",
       "\t<tr><td>3</td><td>pred ~ cp+oldpeak+thal</td><td>0.6934651</td></tr>\n",
       "\t<tr><td>⋮</td><td>⋮</td><td>⋮</td></tr>\n",
       "\t<tr><td> 7</td><td>pred ~ cp+oldpeak+thal+slope+ca+exang+chol                     </td><td>0.7466140</td></tr>\n",
       "\t<tr><td> 9</td><td>pred ~ cp+oldpeak+thal+slope+ca+exang+chol+trestbps+fbs        </td><td>0.7466184</td></tr>\n",
       "\t<tr><td>10</td><td>pred ~ cp+oldpeak+thal+slope+ca+exang+chol+trestbps+fbs+thalach</td><td>0.7509662</td></tr>\n",
       "</tbody>\n",
       "</table>\n"
      ],
      "text/latex": [
       "A tibble: 13 × 3\n",
       "\\begin{tabular}{lll}\n",
       " size & model\\_string & accuracy\\\\\n",
       " <int> & <chr> & <dbl>\\\\\n",
       "\\hline\n",
       "\t 1 & pred \\textasciitilde{} cp              & 0.6444752\\\\\n",
       "\t 2 & pred \\textasciitilde{} cp+oldpeak      & 0.6929820\\\\\n",
       "\t 3 & pred \\textasciitilde{} cp+oldpeak+thal & 0.6934651\\\\\n",
       "\t ⋮ & ⋮ & ⋮\\\\\n",
       "\t  7 & pred \\textasciitilde{} cp+oldpeak+thal+slope+ca+exang+chol                      & 0.7466140\\\\\n",
       "\t  9 & pred \\textasciitilde{} cp+oldpeak+thal+slope+ca+exang+chol+trestbps+fbs         & 0.7466184\\\\\n",
       "\t 10 & pred \\textasciitilde{} cp+oldpeak+thal+slope+ca+exang+chol+trestbps+fbs+thalach & 0.7509662\\\\\n",
       "\\end{tabular}\n"
      ],
      "text/markdown": [
       "\n",
       "A tibble: 13 × 3\n",
       "\n",
       "| size &lt;int&gt; | model_string &lt;chr&gt; | accuracy &lt;dbl&gt; |\n",
       "|---|---|---|\n",
       "| 1 | pred ~ cp              | 0.6444752 |\n",
       "| 2 | pred ~ cp+oldpeak      | 0.6929820 |\n",
       "| 3 | pred ~ cp+oldpeak+thal | 0.6934651 |\n",
       "| ⋮ | ⋮ | ⋮ |\n",
       "|  7 | pred ~ cp+oldpeak+thal+slope+ca+exang+chol                      | 0.7466140 |\n",
       "|  9 | pred ~ cp+oldpeak+thal+slope+ca+exang+chol+trestbps+fbs         | 0.7466184 |\n",
       "| 10 | pred ~ cp+oldpeak+thal+slope+ca+exang+chol+trestbps+fbs+thalach | 0.7509662 |\n",
       "\n"
      ],
      "text/plain": [
       "   size model_string                                                   \n",
       "1  1    pred ~ cp                                                      \n",
       "2  2    pred ~ cp+oldpeak                                              \n",
       "3  3    pred ~ cp+oldpeak+thal                                         \n",
       "⋮  ⋮    ⋮                                                              \n",
       "11  7   pred ~ cp+oldpeak+thal+slope+ca+exang+chol                     \n",
       "12  9   pred ~ cp+oldpeak+thal+slope+ca+exang+chol+trestbps+fbs        \n",
       "13 10   pred ~ cp+oldpeak+thal+slope+ca+exang+chol+trestbps+fbs+thalach\n",
       "   accuracy \n",
       "1  0.6444752\n",
       "2  0.6929820\n",
       "3  0.6934651\n",
       "⋮  ⋮        \n",
       "11 0.7466140\n",
       "12 0.7466184\n",
       "13 0.7509662"
      ]
     },
     "metadata": {},
     "output_type": "display_data"
    }
   ],
   "source": [
    "max1 <- arrange(accuracies, accuracy)\n",
    "max1"
   ]
  },
  {
   "cell_type": "code",
   "execution_count": 5,
   "metadata": {},
   "outputs": [
    {
     "data": {
      "text/html": [
       "<table>\n",
       "<caption>A tibble: 40 × 2</caption>\n",
       "<thead>\n",
       "\t<tr><th scope=col>neighbors</th><th scope=col>mean</th></tr>\n",
       "\t<tr><th scope=col>&lt;int&gt;</th><th scope=col>&lt;dbl&gt;</th></tr>\n",
       "</thead>\n",
       "<tbody>\n",
       "\t<tr><td>1</td><td>0.5958674</td></tr>\n",
       "\t<tr><td>2</td><td>0.5958674</td></tr>\n",
       "\t<tr><td>3</td><td>0.6629337</td></tr>\n",
       "\t<tr><td>⋮</td><td>⋮</td></tr>\n",
       "\t<tr><td>10</td><td>0.7109486</td></tr>\n",
       "\t<tr><td> 5</td><td>0.7157795</td></tr>\n",
       "\t<tr><td> 9</td><td>0.7199341</td></tr>\n",
       "</tbody>\n",
       "</table>\n"
      ],
      "text/latex": [
       "A tibble: 40 × 2\n",
       "\\begin{tabular}{ll}\n",
       " neighbors & mean\\\\\n",
       " <int> & <dbl>\\\\\n",
       "\\hline\n",
       "\t 1 & 0.5958674\\\\\n",
       "\t 2 & 0.5958674\\\\\n",
       "\t 3 & 0.6629337\\\\\n",
       "\t ⋮ & ⋮\\\\\n",
       "\t 10 & 0.7109486\\\\\n",
       "\t  5 & 0.7157795\\\\\n",
       "\t  9 & 0.7199341\\\\\n",
       "\\end{tabular}\n"
      ],
      "text/markdown": [
       "\n",
       "A tibble: 40 × 2\n",
       "\n",
       "| neighbors &lt;int&gt; | mean &lt;dbl&gt; |\n",
       "|---|---|\n",
       "| 1 | 0.5958674 |\n",
       "| 2 | 0.5958674 |\n",
       "| 3 | 0.6629337 |\n",
       "| ⋮ | ⋮ |\n",
       "| 10 | 0.7109486 |\n",
       "|  5 | 0.7157795 |\n",
       "|  9 | 0.7199341 |\n",
       "\n"
      ],
      "text/plain": [
       "   neighbors mean     \n",
       "1  1         0.5958674\n",
       "2  2         0.5958674\n",
       "3  3         0.6629337\n",
       "⋮  ⋮         ⋮        \n",
       "38 10        0.7109486\n",
       "39  5        0.7157795\n",
       "40  9        0.7199341"
      ]
     },
     "metadata": {},
     "output_type": "display_data"
    }
   ],
   "source": [
    "set.seed(100022)\n",
    "#find k\n",
    "disease_best_recipe <- recipe(pred~cp+oldpeak+thal+slope+ca+exang+chol+trestbps+fbs+thalach, \n",
    "                                data = disease_num_train) %>%\n",
    "                          step_scale(all_predictors()) %>%\n",
    "                          step_center(all_predictors())\n",
    "\n",
    "disease_vfold_1 <- vfold_cv(disease_num_train, v = 5, strata = pred) \n",
    "\n",
    "k_vals <- tibble(neighbors = seq(from = 1, to = 40))\n",
    "\n",
    "knn_spec <- nearest_neighbor(weight_func = \"rectangular\", \n",
    "                             neighbors = tune()) %>%\n",
    "     set_engine(\"kknn\") %>%\n",
    "     set_mode(\"classification\")\n",
    "\n",
    "knn_fit <- workflow() %>%\n",
    "  add_recipe(disease_best_recipe) %>%\n",
    "  add_model(knn_spec) %>%\n",
    "  tune_grid(resamples = disease_vfold_1, grid = k_vals) %>%\n",
    "  collect_metrics() %>%\n",
    "  filter(.metric == \"accuracy\") %>%\n",
    "  select(neighbors, mean) %>%\n",
    "  arrange(mean)\n",
    "\n",
    "knn_fit"
   ]
  },
  {
   "cell_type": "code",
   "execution_count": 13,
   "metadata": {},
   "outputs": [
    {
     "data": {
      "text/html": [
       "0.625"
      ],
      "text/latex": [
       "0.625"
      ],
      "text/markdown": [
       "0.625"
      ],
      "text/plain": [
       "[1] 0.625"
      ]
     },
     "metadata": {},
     "output_type": "display_data"
    }
   ],
   "source": [
    "#final calculation\n",
    "\n",
    "disease_best_spec <- nearest_neighbor(weight_func = \"rectangular\", \n",
    "                             neighbors = 9) %>%\n",
    "     set_engine(\"kknn\") %>%\n",
    "     set_mode(\"classification\")\n",
    "\n",
    "\n",
    "knn_fit <- workflow() %>%\n",
    "  add_recipe(disease_best_recipe) %>%\n",
    "  add_model(disease_best_spec) %>%\n",
    "  fit(data = disease_num_train)\n",
    "\n",
    "disease_predict <- predict(knn_fit, disease_num_test) %>%\n",
    "    bind_cols(disease_num_test) %>%\n",
    "    metrics(truth = pred, estimate = .pred_class) %>%\n",
    "    filter(.metric == \"accuracy\") %>%\n",
    "    select(.estimate) %>%\n",
    "    pull()\n",
    "disease_predict"
   ]
  },
  {
   "cell_type": "markdown",
   "metadata": {},
   "source": [
    "# Methods"
   ]
  },
  {
   "cell_type": "markdown",
   "metadata": {},
   "source": [
    "The main columns that will be used are age, sex, blood pressure, and cholesterol level. They will be compared to the other factors to see which ones lead to the most accurate predictions of heart disease. These comparisons will be carried out using "
   ]
  },
  {
   "cell_type": "markdown",
   "metadata": {},
   "source": [
    "We decided to create groupings of the num or predicted attributes. There were five categories originally and we combined them to create three. The first was a not at risk group which consisted of the zero category. We combined the level one and two categories to create a moderately at risk group, and the three and four levels to create an at high risk group. The not at risk group would have no risk of heart disease and would not require treatment. The moderately at risk group would have a risk of heart disease, but would not require as agressive of treatment. The highly at risk group would have a risk of heart disease and would require extensive treatment. \n"
   ]
  },
  {
   "cell_type": "markdown",
   "metadata": {},
   "source": [
    "# Expected Outcomes and Significance"
   ]
  },
  {
   "cell_type": "markdown",
   "metadata": {},
   "source": [
    "We expect that age, sex, blood pressure, and cholesterol level will be significant predictors of heart disease. We expect that there will be a positive relationship between these predictors and occurence rate of heart disease. \n",
    "\n",
    "Predicting which factors raise a person's likelihood for heart disease allows medical professionals to be more accurately informed and increases the chance for accurate diagnosis. As heart disease is one of the leading causes of death, early preventative and diagnostic action can lead to a decreased mortality rate.\n",
    "\n",
    "Finally, a more accurate diagnosis of heart disease allows for more detailed research of its causes, as well as potential treatments. By prioritizing focus on those causes that play a more significant role, future research in the field may become more efficient and effective."
   ]
  },
  {
   "cell_type": "code",
   "execution_count": null,
   "metadata": {},
   "outputs": [],
   "source": []
  }
 ],
 "metadata": {
  "kernelspec": {
   "display_name": "R",
   "language": "R",
   "name": "ir"
  },
  "language_info": {
   "codemirror_mode": "r",
   "file_extension": ".r",
   "mimetype": "text/x-r-source",
   "name": "R",
   "pygments_lexer": "r",
   "version": "4.0.0"
  }
 },
 "nbformat": 4,
 "nbformat_minor": 4
}
